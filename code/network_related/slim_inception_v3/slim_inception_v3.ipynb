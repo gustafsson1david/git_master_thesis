{
 "cells": [
  {
   "cell_type": "markdown",
   "metadata": {},
   "source": [
    "# Import"
   ]
  },
  {
   "cell_type": "code",
   "execution_count": 1,
   "metadata": {
    "collapsed": false
   },
   "outputs": [],
   "source": [
    "import os\n",
    "import numpy as np\n",
    "import random\n",
    "import time\n",
    "from PIL import Image\n",
    "import tensorflow as tf\n",
    "import tensorflow.contrib.slim as slim\n",
    "from tensorflow.contrib.slim.python.slim.nets.inception_v3 import inception_v3\n",
    "from tensorflow.contrib.slim.python.slim.nets.inception_v3 import inception_v3_arg_scope"
   ]
  },
  {
   "cell_type": "markdown",
   "metadata": {},
   "source": [
    "# Build graph"
   ]
  },
  {
   "cell_type": "code",
   "execution_count": 2,
   "metadata": {
    "collapsed": true
   },
   "outputs": [],
   "source": [
    "g = tf.get_default_graph()"
   ]
  },
  {
   "cell_type": "markdown",
   "metadata": {},
   "source": [
    "## Define preprocessing"
   ]
  },
  {
   "cell_type": "code",
   "execution_count": 3,
   "metadata": {
    "collapsed": true
   },
   "outputs": [],
   "source": [
    "with tf.name_scope('Preprocessing'):\n",
    "    input_im = tf.placeholder(tf.uint8, shape=[None, None, None, 3], name='input_im')\n",
    "    resized_im = tf.image.resize_bilinear(tf.image.convert_image_dtype(\n",
    "        tf.convert_to_tensor(input_im) ,dtype=tf.float32), [299,299], name='resized_im')\n",
    "    normalized_im = tf.mul(tf.sub(resized_im, 0.5), 2.0, name='normalized_im')"
   ]
  },
  {
   "cell_type": "markdown",
   "metadata": {},
   "source": [
    "## Load Inception-v3 graph from slim"
   ]
  },
  {
   "cell_type": "code",
   "execution_count": 4,
   "metadata": {
    "collapsed": false
   },
   "outputs": [],
   "source": [
    "with slim.arg_scope(inception_v3_arg_scope()):\n",
    "    logits, end_points = inception_v3(normalized_im, num_classes=1001, is_training=False)\n",
    "slim_variables = [v for v in tf.global_variables() if v.name.startswith('InceptionV3/')]"
   ]
  },
  {
   "cell_type": "markdown",
   "metadata": {},
   "source": [
    "## Create own branch"
   ]
  },
  {
   "cell_type": "code",
   "execution_count": 5,
   "metadata": {
    "collapsed": false
   },
   "outputs": [],
   "source": [
    "with tf.name_scope('Own'):\n",
    "    y = tf.placeholder(\"float\")\n",
    "    x = tf.reshape(g.get_tensor_by_name('InceptionV3/Logits/SpatialSqueeze:0'),(1,1001))\n",
    "    w = tf.Variable(tf.random_normal([int(x.get_shape()[-1]),300], stddev=float('1e-5')), name='weights')\n",
    "    b = tf.Variable(tf.random_normal([1,300]), name='bias')\n",
    "    y_pred = tf.add(tf.matmul(x, w), b, name='y_pred')\n",
    "    cost = tf.reduce_sum(tf.square(y-y_pred),name='cost')\n",
    "    cost_summary = tf.summary.scalar('cost', cost)"
   ]
  },
  {
   "cell_type": "markdown",
   "metadata": {},
   "source": [
    "## Define training"
   ]
  },
  {
   "cell_type": "code",
   "execution_count": 6,
   "metadata": {
    "collapsed": false,
    "scrolled": true
   },
   "outputs": [],
   "source": [
    "with tf.name_scope('Optimization'):\n",
    "    optimizer = tf.train.GradientDescentOptimizer(learning_rate=float('1e-5'), name='Optimizer')\n",
    "    \n",
    "    variables_to_train = [w,b]\n",
    "    variables_to_train.extend([v for v in tf.trainable_variables() if\n",
    "                               v.name.startswith('InceptionV3/Logits') and\n",
    "                               (v.name.endswith('weights:0') or v.name.endswith('biases:0'))])\n",
    "#    variables_to_train.extend([v for v in tf.trainable_variables() if\n",
    "#                               v.name.startswith('InceptionV3/Mixed_7c') and\n",
    "#                               (v.name.endswith('weights:0') or v.name.endswith('beta:0'))])\n",
    "    \n",
    "    train_step = optimizer.minimize(cost, var_list=variables_to_train, name='Train_step')"
   ]
  },
  {
   "cell_type": "markdown",
   "metadata": {},
   "source": [
    "## Save graph"
   ]
  },
  {
   "cell_type": "code",
   "execution_count": 7,
   "metadata": {
    "collapsed": false
   },
   "outputs": [
    {
     "data": {
      "text/plain": [
       "<tensorflow.python.summary.writer.writer.FileWriter at 0x1114fb518>"
      ]
     },
     "execution_count": 7,
     "metadata": {},
     "output_type": "execute_result"
    }
   ],
   "source": [
    "timestamp = time.strftime('%Y%m%d-%H%M', time.localtime())\n",
    "tf.summary.FileWriter('./runs/'+timestamp+'/graph/', graph=g)"
   ]
  },
  {
   "cell_type": "markdown",
   "metadata": {
    "collapsed": true
   },
   "source": [
    "# Read data"
   ]
  },
  {
   "cell_type": "code",
   "execution_count": 8,
   "metadata": {
    "collapsed": false
   },
   "outputs": [],
   "source": [
    "# Images\n",
    "train_image_path = '../../../data/train2014/'\n",
    "train_image_list = os.listdir(train_image_path)\n",
    "val_image_path = '../../../data/val2014/'\n",
    "val_image_list = os.listdir(val_image_path)\n",
    "\n",
    "# Caption dictionaries\n",
    "train_dict = np.load('../../../data/word2vec_train.npy').item()\n",
    "val_dict = np.load('../../../data/word2vec_val.npy').item()\n",
    "\n",
    "# Labels\n",
    "labels = open('../../../data/ilsvrc2012_labels.txt', 'r').readlines()"
   ]
  },
  {
   "cell_type": "markdown",
   "metadata": {},
   "source": [
    "# Train model"
   ]
  },
  {
   "cell_type": "code",
   "execution_count": 9,
   "metadata": {
    "collapsed": false,
    "scrolled": true
   },
   "outputs": [
    {
     "name": "stdout",
     "output_type": "stream",
     "text": [
      "TRAINING\n",
      "0 1 2 3 4 5 6 7 8 9 10 11 12 -/13 14 15 16 17 18 19 20 21 22 23 24 25 26 27 28 29 30 31 32 33 34 35 36 37 38 39 40 41 42 43 44 45 46 47 48 49 50 51 52 53 54 55 56 57 58 59 60 61 62 63 64 65 66 67 68 69 70 71 72 73 74 75 76 77 78 79 80 81 82 83 84 85 86 87 88 89 90 91 92 93 94 95 96 97 98 99 100 101 102 103 104 105 106 107 108 -/109 110 111 112 113 114 115 116 117 118 119 120 121 122 123 124 125 126 127 128 129 130 131 132 133 134 135 136 137 138 139 140 141 142 143 144 145 146 147 148 149 150 151 152 153 154 155 156 157 158 159 160 161 162 163 164 165 166 167 168 169 170 171 172 173 174 175 176 177 178 179 180 -/181 182 183 184 185 186 187 188 189 190 191 192 193 194 195 196 197 198 199 200 201 202 203 204 205 206 207 208 209 210 211 212 213 214 215 216 217 218 219 220 221 222 223 224 225 226 227 228 229 230 231 232 233 234 235 236 237 238 239 240 241 242 243 244 245 246 247 248 249 250 251 252 253 254 255 256 257 258 259 260 261 262 263 264 265 266 267 268 269 270 271 272 273 274 275 276 277 278 279 280 281 282 283 284 285 286 287 288 289 290 291 292 293 294 295 296 297 298 299 300 301 302 303 304 305 306 307 308 309 310 311 312 313 314 315 316 317 318 319 320 321 322 323 324 325 326 327 328 329 330 331 332 333 334 335 336 337 338 339 340 341 342 343 344 345 346 347 348 349 350 351 352 353 354 355 356 357 358 359 360 361 362 363 364 365 366 367 368 369 370 371 372 373 374 375 376 377 378 379 380 381 382 383 384 385 386 387 388 389 390 391 392 393 394 395 396 397 398 399 400 401 402 403 404 405 406 407 408 409 410 411 412 413 414 415 416 417 418 419 420 421 422 423 424 425 426 427 428 429 430 431 432 433 434 435 436 437 438 439 -/440 441 442 443 444 445 446 447 448 449 450 451 452 453 454 455 456 457 458 459 460 461 462 463 464 465 466 467 468 469 470 471 472 473 474 475 476 477 478 479 480 481 482 483 484 485 486 487 488 489 490 491 492 493 494 495 496 497 498 499 500 501 502 503 504 505 506 507 508 509 510 511 512 513 514 515 516 517 518 519 520 521 522 523 524 525 526 527 528 529 530 531 532 533 534 535 536 537 538 539 540 541 542 543 544 545 546 547 548 549 550 551 552 553 554 555 556 557 558 559 560 561 562 563 564 565 566 567 568 569 570 571 572 573 574 575 576 577 578 579 580 581 582 583 584 585 586 587 588 589 590 591 592 593 594 595 596 597 598 599 600 601 602 603 604 605 606 607 608 609 610 611 612 613 614 615 616 617 618 619 620 621 622 623 624 625 626 627 628 629 630 631 632 633 634 635 636 637 638 639 640 641 642 643 644 645 646 647 648 649 650 651 652 653 654 655 656 657 658 659 660 661 662 663 664 665 666 667 668 669 670 671 672 673 674 675 676 677 678 679 680 681 682 683 684 685 686 687 688 689 690 691 692 693 694 695 696 697 698 -/699 700 701 702 703 704 705 706 707 708 709 710 711 712 713 714 715 716 717 718 719 720 721 722 723 724 725 726 727 728 729 730 731 732 733 734 735 736 737 738 739 740 741 742 743 744 745 746 747 748 749 750 751 752 753 754 755 756 757 758 759 760 761 762 763 764 765 766 767 768 769 770 771 772 773 774 775 776 777 778 779 780 781 782 783 784 785 786 787 788 789 790 791 792 793 794 795 796 797 798 799 800 801 802 803 804 805 806 807 808 809 810 811 812 813 814 815 816 817 818 819 820 821 822 823 824 825 826 827 828 829 830 831 832 833 834 835 836 837 838 839 840 841 842 843 844 845 846 847 848 849 850 851 852 853 854 -/855 856 857 858 859 860 861 862 863 864 865 -/866 867 868 869 870 871 872 873 874 875 876 877 878 879 880 881 882 883 884 885 886 887 888 889 890 891 892 893 894 895 896 897 898 899 900 901 902 903 904 905 906 907 908 909 910 911 912 913 914 915 916 917 918 919 920 921 922 923 924 925 926 927 928 929 930 931 932 933 934 935 936 937 938 939 940 941 942 943 944 945 946 947 948 949 950 951 952 953 954 955 956 957 958 959 960 961 962 963 964 965 966 967 968 969 970 971 972 973 974 975 976 977 978 979 980 981 982 983 984 985 986 987 988 989 990 991 992 993 994 995 996 997 998 999 \n",
      "\n",
      "Trained model saved to ./runs/20170213-1508/checkpoint/model.ckpt\n"
     ]
    }
   ],
   "source": [
    "# Tried to follow\n",
    "# https://github.com/tensorflow/models/tree/master/slim\n",
    "# http://stackoverflow.com/questions/35274457/inceptionv3-and-transfer-learning-with-tensorflow/40709836#40709836\n",
    "with tf.Session() as sess:\n",
    "    \n",
    "    # Initialize variables\n",
    "    saver = tf.train.Saver(var_list=slim_variables)\n",
    "    saver.restore(sess, \"../../../data/inception-2016-08-28/inception_v3.ckpt\")\n",
    "    sess.run([w.initializer, b.initializer])\n",
    "    \n",
    "    # Initialize writers\n",
    "    train_writer = tf.summary.FileWriter('./runs/'+timestamp+'/sums/train/', flush_secs=20)\n",
    "    val_writer = tf.summary.FileWriter('./runs/'+timestamp+'/sums/val/', flush_secs=20)\n",
    "    \n",
    "    # Train\n",
    "    print('TRAINING')\n",
    "    for i, im in enumerate(train_image_list[:1000]):\n",
    "        try:\n",
    "            # Choose one of the five captions randomly\n",
    "            r = random.randrange(len(train_dict[im]))\n",
    "            y_temp = train_dict[im][r].reshape((1,300))\n",
    "\n",
    "            # Form input and feed through\n",
    "            image = [np.array(Image.open(train_image_path + im))]\n",
    "            train_writer.add_summary(sess.run(cost_summary,{input_im:image, y:y_temp}), i)\n",
    "            sess.run(train_step,feed_dict={input_im:image, y:y_temp})\n",
    "            print(i, end=' ')\n",
    "\n",
    "    #        # Get prediction\n",
    "    #        class_pred = np.argmax(sess.run(\n",
    "    #            g.get_tensor_by_name('InceptionV3/Predictions/Softmax:0'),{input_im:image}))\n",
    "    #        print(labels[class_pred])\n",
    "\n",
    "            # Evaluate every 25th step\n",
    "            if i % 25 == 0:\n",
    "                val_cost = 0\n",
    "                val_set_size = 10\n",
    "                for j, val_im in enumerate(val_image_list[:val_set_size]):\n",
    "                    val_image = [np.array(Image.open(val_image_path + val_im))]\n",
    "                    y_val = val_dict[val_im][0].reshape((1,300))\n",
    "                    val_cost += sess.run(cost,{input_im:val_image, y:y_val})\n",
    "                val_writer.add_summary(sess.run(cost_summary,feed_dict={cost:val_cost/val_set_size}), i)\n",
    "        except (IndexError, ValueError):\n",
    "            print('-/{}'.format(i), end=' ')\n",
    "            \n",
    "    # Save\n",
    "    os.mkdir('./runs/'+timestamp+'/checkpoint/')\n",
    "    new_saver = tf.train.Saver()\n",
    "    save_path = new_saver.save(sess, './runs/'+timestamp+'/checkpoint/model.ckpt')\n",
    "    print('\\n\\nTrained model saved to {}'.format(save_path))"
   ]
  },
  {
   "cell_type": "code",
   "execution_count": null,
   "metadata": {
    "collapsed": true
   },
   "outputs": [],
   "source": []
  }
 ],
 "metadata": {
  "kernelspec": {
   "display_name": "Python 3",
   "language": "python",
   "name": "python3"
  },
  "language_info": {
   "codemirror_mode": {
    "name": "ipython",
    "version": 3
   },
   "file_extension": ".py",
   "mimetype": "text/x-python",
   "name": "python",
   "nbconvert_exporter": "python",
   "pygments_lexer": "ipython3",
   "version": "3.6.0"
  }
 },
 "nbformat": 4,
 "nbformat_minor": 2
}
