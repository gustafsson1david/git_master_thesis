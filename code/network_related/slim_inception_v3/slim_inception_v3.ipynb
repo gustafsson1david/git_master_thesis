{
 "cells": [
  {
   "cell_type": "markdown",
   "metadata": {},
   "source": [
    "# Import"
   ]
  },
  {
   "cell_type": "code",
   "execution_count": 1,
   "metadata": {
    "collapsed": false
   },
   "outputs": [],
   "source": [
    "import os\n",
    "import numpy as np\n",
    "import random\n",
    "import time\n",
    "from PIL import Image\n",
    "import tensorflow as tf\n",
    "import tensorflow.contrib.slim as slim\n",
    "from tensorflow.contrib.slim.python.slim.nets.inception_v3 import inception_v3\n",
    "from tensorflow.contrib.slim.python.slim.nets.inception_v3 import inception_v3_arg_scope"
   ]
  },
  {
   "cell_type": "markdown",
   "metadata": {},
   "source": [
    "# Build graph"
   ]
  },
  {
   "cell_type": "code",
   "execution_count": 2,
   "metadata": {
    "collapsed": true
   },
   "outputs": [],
   "source": [
    "g = tf.get_default_graph()"
   ]
  },
  {
   "cell_type": "markdown",
   "metadata": {},
   "source": [
    "## Define preprocessing"
   ]
  },
  {
   "cell_type": "code",
   "execution_count": 3,
   "metadata": {
    "collapsed": true
   },
   "outputs": [],
   "source": [
    "with tf.name_scope('Preprocessing'):\n",
    "    input_im = tf.placeholder(tf.uint8, shape=[None, None, None, 3], name='input_im')\n",
    "    resized_im = tf.image.resize_bilinear(tf.image.convert_image_dtype(\n",
    "        tf.convert_to_tensor(input_im) ,dtype=tf.float32), [299,299], name='resized_im')\n",
    "    normalized_im = tf.mul(tf.sub(resized_im, 0.5), 2.0, name='normalized_im')"
   ]
  },
  {
   "cell_type": "markdown",
   "metadata": {},
   "source": [
    "## Load Inception-v3 graph from slim"
   ]
  },
  {
   "cell_type": "code",
   "execution_count": 4,
   "metadata": {
    "collapsed": false
   },
   "outputs": [],
   "source": [
    "with slim.arg_scope(inception_v3_arg_scope()):\n",
    "    logits, end_points = inception_v3(normalized_im, num_classes=1001, is_training=False)\n",
    "slim_variables = [v for v in tf.global_variables() if v.name.startswith('InceptionV3/')]"
   ]
  },
  {
   "cell_type": "markdown",
   "metadata": {},
   "source": [
    "## Create own branch"
   ]
  },
  {
   "cell_type": "code",
   "execution_count": 5,
   "metadata": {
    "collapsed": false
   },
   "outputs": [],
   "source": [
    "with tf.name_scope('Own'):\n",
    "    y = tf.placeholder(\"float\")\n",
    "    x = tf.reshape(g.get_tensor_by_name('InceptionV3/Logits/SpatialSqueeze:0'),(1,1001))\n",
    "    w = tf.Variable(tf.random_normal([int(x.get_shape()[-1]),300], stddev=float('1e-5')), name='weights')\n",
    "    b = tf.Variable(tf.random_normal([1,300]), name='bias')\n",
    "    y_pred = tf.add(tf.matmul(x, w), b, name='y_pred')\n",
    "    cost = tf.reduce_sum(tf.square(y-y_pred),name='cost')\n",
    "    cost_summary = tf.summary.scalar('cost', cost)"
   ]
  },
  {
   "cell_type": "markdown",
   "metadata": {},
   "source": [
    "## Define training"
   ]
  },
  {
   "cell_type": "code",
   "execution_count": 6,
   "metadata": {
    "collapsed": false,
    "scrolled": true
   },
   "outputs": [],
   "source": [
    "with tf.name_scope('Optimization'):\n",
    "    optimizer = tf.train.GradientDescentOptimizer(learning_rate=float('1e-5'), name='Optimizer')\n",
    "    \n",
    "    variables_to_train = [w,b]\n",
    "    variables_to_train.extend([v for v in tf.trainable_variables() if\n",
    "                               v.name.startswith('InceptionV3/Logits') and\n",
    "                               (v.name.endswith('weights:0') or v.name.endswith('biases:0'))])\n",
    "#    variables_to_train.extend([v for v in tf.trainable_variables() if\n",
    "#                               v.name.startswith('InceptionV3/Mixed_7c') and\n",
    "#                               (v.name.endswith('weights:0') or v.name.endswith('beta:0'))])\n",
    "    \n",
    "    train_step = optimizer.minimize(cost, var_list=variables_to_train, name='Train_step')"
   ]
  },
  {
   "cell_type": "markdown",
   "metadata": {},
   "source": [
    "## Save graph"
   ]
  },
  {
   "cell_type": "code",
   "execution_count": 7,
   "metadata": {
    "collapsed": false
   },
   "outputs": [
    {
     "data": {
      "text/plain": [
       "<tensorflow.python.summary.writer.writer.FileWriter at 0x1114fb518>"
      ]
     },
     "execution_count": 7,
     "metadata": {},
     "output_type": "execute_result"
    }
   ],
   "source": [
    "timestamp = time.strftime('%Y%m%d-%H%M', time.localtime())\n",
    "tf.summary.FileWriter('./runs/'+timestamp+'/graph/', graph=g)"
   ]
  },
  {
   "cell_type": "markdown",
   "metadata": {
    "collapsed": true
   },
   "source": [
    "# Read data"
   ]
  },
  {
   "cell_type": "code",
   "execution_count": null,
   "metadata": {
    "collapsed": false
   },
   "outputs": [],
   "source": [
    "# Images\n",
    "train_image_path = '../../../data/train2014/'\n",
    "train_image_list = os.listdir(train_image_path)\n",
    "val_image_path = '../../../data/val2014/'\n",
    "val_image_list = os.listdir(val_image_path)\n",
    "\n",
    "# Caption dictionaries\n",
    "train_dict = np.load('../../../data/word2vec_train.npy').item()\n",
    "val_dict = np.load('../../../data/word2vec_val.npy').item()\n",
    "\n",
    "# Labels\n",
    "labels = open('../../../data/ilsvrc2012_labels.txt', 'r').readlines()"
   ]
  },
  {
   "cell_type": "markdown",
   "metadata": {},
   "source": [
    "# Train model"
   ]
  },
  {
   "cell_type": "code",
   "execution_count": null,
   "metadata": {
    "collapsed": false,
    "scrolled": true
   },
   "outputs": [
    {
     "name": "stdout",
     "output_type": "stream",
     "text": [
      "TRAINING\n",
      "0 1 2 3 4 5 6 7 8 9 10 11 12 -/13 14 15 16 17 18 19 20 21 22 23 24 25 26 27 28 29 30 31 32 33 34 35 36 37 38 39 40 41 42 43 44 45 46 47 48 49 50 51 52 53 54 55 56 57 58 59 60 61 62 63 64 65 66 67 68 69 70 71 72 73 74 75 76 77 78 79 80 81 82 83 84 85 86 87 88 89 90 91 92 93 94 95 96 97 98 99 100 101 102 103 104 105 106 107 108 -/109 110 111 112 113 114 115 116 117 118 119 120 121 122 123 124 125 126 127 128 129 130 131 132 133 134 135 136 137 138 139 140 "
     ]
    }
   ],
   "source": [
    "# Tried to follow\n",
    "# https://github.com/tensorflow/models/tree/master/slim\n",
    "# http://stackoverflow.com/questions/35274457/inceptionv3-and-transfer-learning-with-tensorflow/40709836#40709836\n",
    "with tf.Session() as sess:\n",
    "    \n",
    "    # Initialize variables\n",
    "    saver = tf.train.Saver(var_list=slim_variables)\n",
    "    saver.restore(sess, \"../../../data/inception-2016-08-28/inception_v3.ckpt\")\n",
    "    sess.run([w.initializer, b.initializer])\n",
    "    \n",
    "    # Initialize writers\n",
    "    train_writer = tf.summary.FileWriter('./runs/'+timestamp+'/sums/train/', flush_secs=20)\n",
    "    val_writer = tf.summary.FileWriter('./runs/'+timestamp+'/sums/val/', flush_secs=20)\n",
    "    \n",
    "    # Train\n",
    "    print('TRAINING')\n",
    "    for i, im in enumerate(train_image_list[:1000]):\n",
    "        try:\n",
    "            # Choose one of the five captions randomly\n",
    "            r = random.randrange(len(train_dict[im]))\n",
    "            y_temp = train_dict[im][r].reshape((1,300))\n",
    "\n",
    "            # Form input and feed through\n",
    "            image = [np.array(Image.open(train_image_path + im))]\n",
    "            train_writer.add_summary(sess.run(cost_summary,{input_im:image, y:y_temp}), i)\n",
    "            sess.run(train_step,feed_dict={input_im:image, y:y_temp})\n",
    "            print(i, end=' ')\n",
    "\n",
    "    #        # Get prediction\n",
    "    #        class_pred = np.argmax(sess.run(\n",
    "    #            g.get_tensor_by_name('InceptionV3/Predictions/Softmax:0'),{input_im:image}))\n",
    "    #        print(labels[class_pred])\n",
    "\n",
    "            # Evaluate every 10th step\n",
    "            if i % 10 == 0:\n",
    "                val_cost = 0\n",
    "                val_set_size = 10\n",
    "                for j, val_im in enumerate(val_image_list[:val_set_size]):\n",
    "                    val_image = [np.array(Image.open(val_image_path + val_im))]\n",
    "                    y_val = val_dict[val_im][0].reshape((1,300))\n",
    "                    val_cost += sess.run(cost,{input_im:val_image, y:y_val})\n",
    "                val_writer.add_summary(sess.run(cost_summary,feed_dict={cost:val_cost/val_set_size}), i)\n",
    "        except (IndexError, ValueError):\n",
    "            print('-/{}'.format(i), end=' ')\n",
    "            \n",
    "    # Save\n",
    "    os.mkdir('./runs/'+timestamp+'/checkpoint/')\n",
    "    new_saver = tf.train.Saver()\n",
    "    save_path = new_saver.save(sess, './runs/'+timestamp+'/checkpoint/model.ckpt')\n",
    "    print('\\n\\nTrained model saved to {}'.format(save_path))"
   ]
  },
  {
   "cell_type": "code",
   "execution_count": null,
   "metadata": {
    "collapsed": true
   },
   "outputs": [],
   "source": []
  }
 ],
 "metadata": {
  "kernelspec": {
   "display_name": "Python 3",
   "language": "python",
   "name": "python3"
  },
  "language_info": {
   "codemirror_mode": {
    "name": "ipython",
    "version": 3
   },
   "file_extension": ".py",
   "mimetype": "text/x-python",
   "name": "python",
   "nbconvert_exporter": "python",
   "pygments_lexer": "ipython3",
   "version": "3.6.0"
  }
 },
 "nbformat": 4,
 "nbformat_minor": 2
}
