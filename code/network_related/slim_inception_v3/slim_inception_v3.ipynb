{
 "cells": [
  {
   "cell_type": "markdown",
   "metadata": {},
   "source": [
    "# Import"
   ]
  },
  {
   "cell_type": "code",
   "execution_count": null,
   "metadata": {
    "collapsed": false
   },
   "outputs": [],
   "source": [
    "import os\n",
    "import numpy as np\n",
    "import random\n",
    "import time\n",
    "from PIL import Image\n",
    "import tensorflow as tf\n",
    "import tensorflow.contrib.slim as slim\n",
    "from tensorflow.contrib.slim.python.slim.nets.inception_v3 import inception_v3\n",
    "from tensorflow.contrib.slim.python.slim.nets.inception_v3 import inception_v3_arg_scope"
   ]
  },
  {
   "cell_type": "markdown",
   "metadata": {},
   "source": [
    "# Build graph"
   ]
  },
  {
   "cell_type": "code",
   "execution_count": null,
   "metadata": {
    "collapsed": true
   },
   "outputs": [],
   "source": [
    "g = tf.get_default_graph()"
   ]
  },
  {
   "cell_type": "markdown",
   "metadata": {},
   "source": [
    "## Define preprocessing"
   ]
  },
  {
   "cell_type": "code",
   "execution_count": null,
   "metadata": {
    "collapsed": true
   },
   "outputs": [],
   "source": [
    "with tf.name_scope('Preprocessing'):\n",
    "    input_im = tf.placeholder(tf.uint8, shape=[None, None, None, 3], name='input_im')\n",
    "    resized_im = tf.image.resize_bilinear(tf.image.convert_image_dtype(\n",
    "        tf.convert_to_tensor(input_im) ,dtype=tf.float32), [299,299], name='resized_im')\n",
    "    normalized_im = tf.mul(tf.sub(resized_im, 0.5), 2.0, name='normalized_im')"
   ]
  },
  {
   "cell_type": "markdown",
   "metadata": {},
   "source": [
    "## Load Inception-v3 graph from slim"
   ]
  },
  {
   "cell_type": "code",
   "execution_count": null,
   "metadata": {
    "collapsed": false
   },
   "outputs": [],
   "source": [
    "with slim.arg_scope(inception_v3_arg_scope()):\n",
    "    logits, end_points = inception_v3(normalized_im, num_classes=1001, is_training=False)\n",
    "slim_variables = [v for v in tf.global_variables() if v.name.startswith('InceptionV3/')]"
   ]
  },
  {
   "cell_type": "markdown",
   "metadata": {},
   "source": [
    "## Create own branch"
   ]
  },
  {
   "cell_type": "code",
   "execution_count": null,
   "metadata": {
    "collapsed": false
   },
   "outputs": [],
   "source": [
    "with tf.name_scope('Own'):\n",
    "    y = tf.placeholder(dtype=\"float\", shape=[None,300], name='y')\n",
    "    batch_size = tf.to_float(tf.shape(y, name='batch_size')[0])\n",
    "    x = g.get_tensor_by_name('InceptionV3/Logits/SpatialSqueeze:0')\n",
    "    w = tf.Variable(tf.random_normal([int(x.get_shape()[-1]),300], stddev=float('1e-5')), name='weights')\n",
    "    b = tf.Variable(tf.random_normal([1,300]), name='bias')\n",
    "    y_pred = tf.add(tf.matmul(x, w), b, name='y_pred')\n",
    "    cost = tf.divide(tf.reduce_sum(tf.square(y-y_pred)), batch_size, name='cost')\n",
    "    cost_summary = tf.summary.scalar('cost', cost)"
   ]
  },
  {
   "cell_type": "markdown",
   "metadata": {},
   "source": [
    "## Define training"
   ]
  },
  {
   "cell_type": "code",
   "execution_count": null,
   "metadata": {
    "collapsed": false,
    "scrolled": true
   },
   "outputs": [],
   "source": [
    "with tf.name_scope('Optimization'):\n",
    "    global_step = tf.Variable(0, trainable=False, name='global_step')\n",
    "    init_learning_rate = tf.constant(float('1e-5'), name='init_learning_rate')\n",
    "    learning_rate = tf.train.exponential_decay(\n",
    "        init_learning_rate, global_step, 200, 0.95, staircase=True, name='learning_rate')\n",
    "\n",
    "    optimizer = tf.train.RMSPropOptimizer(learning_rate=learning_rate, momentum=0.9, name='Optimizer')\n",
    "    \n",
    "    variables_to_train = [w,b]\n",
    "    variables_to_train.extend([v for v in tf.trainable_variables() if\n",
    "                               v.name.startswith('InceptionV3/Logits') and\n",
    "                               (v.name.endswith('weights:0') or v.name.endswith('biases:0'))])\n",
    "    variables_to_train.extend([v for v in tf.trainable_variables() if\n",
    "                               v.name.startswith('InceptionV3/Mixed_7c') and\n",
    "                               (v.name.endswith('weights:0') or v.name.endswith('beta:0'))])\n",
    "    \n",
    "    train_step = optimizer.minimize(cost, var_list=variables_to_train, global_step=global_step, name='train_step')"
   ]
  },
  {
   "cell_type": "markdown",
   "metadata": {},
   "source": [
    "## Save graph"
   ]
  },
  {
   "cell_type": "code",
   "execution_count": null,
   "metadata": {
    "collapsed": false
   },
   "outputs": [],
   "source": [
    "timestamp = time.strftime('%Y%m%d-%H%M', time.localtime())\n",
    "tf.summary.FileWriter('./runs/'+timestamp+'/graph/', graph=g)"
   ]
  },
  {
   "cell_type": "markdown",
   "metadata": {
    "collapsed": true
   },
   "source": [
    "# Read data"
   ]
  },
  {
   "cell_type": "code",
   "execution_count": null,
   "metadata": {
    "collapsed": false
   },
   "outputs": [],
   "source": [
    "# Images\n",
    "train_image_path = '../../../data/train2014/'\n",
    "train_image_list = os.listdir(train_image_path)\n",
    "val_image_path = '../../../data/val2014/'\n",
    "val_image_list = os.listdir(val_image_path)\n",
    "\n",
    "# Caption dictionaries\n",
    "train_dict = np.load('../../../data/word2vec_train.npy').item()\n",
    "val_dict = np.load('../../../data/word2vec_val.npy').item()\n",
    "\n",
    "# Labels\n",
    "labels = open('../../../data/ilsvrc2012_labels.txt', 'r').readlines()"
   ]
  },
  {
   "cell_type": "markdown",
   "metadata": {},
   "source": [
    "# Train model"
   ]
  },
  {
   "cell_type": "code",
   "execution_count": null,
   "metadata": {
    "collapsed": false
   },
   "outputs": [],
   "source": [
    "# Tried to follow\n",
    "# https://github.com/tensorflow/models/tree/master/slim\n",
    "# http://stackoverflow.com/questions/35274457/inceptionv3-and-transfer-learning-with-tensorflow/40709836#40709836\n",
    "with tf.Session() as sess:\n",
    "    \n",
    "    # Initialize variables\n",
    "    saver = tf.train.Saver(var_list=slim_variables)\n",
    "    saver.restore(sess, \"../../../data/inception-2016-08-28/inception_v3.ckpt\")\n",
    "    sess.run([w.initializer, b.initializer])\n",
    "    sess.run([global_step.initializer])\n",
    "    uninitialized = sess.run(tf.report_uninitialized_variables())\n",
    "    uninitialized = [str(v)[2:-1]+':0' for v in uninitialized]\n",
    "    uninitialized = [v for v in tf.global_variables() if v.name in uninitialized]\n",
    "    sess.run(tf.variables_initializer(var_list=uninitialized))\n",
    "    \n",
    "    # Initialize writers\n",
    "    train_writer = tf.summary.FileWriter('./runs/'+timestamp+'/sums/train/', flush_secs=20)\n",
    "    val_writer = tf.summary.FileWriter('./runs/'+timestamp+'/sums/val/', flush_secs=20)\n",
    "    \n",
    "    # Train\n",
    "    print('TRAINING')\n",
    "    batch_size = 5\n",
    "    val_set_size = 10\n",
    "    for i in range(len(train_image_list))[:10000:batch_size]:\n",
    "        image_batch = []\n",
    "        caption_batch = []\n",
    "        # Form batch and feed through\n",
    "        for j in range(batch_size):\n",
    "            temp_im = np.array(Image.open(train_image_path + train_image_list[i+j]))\n",
    "            # If image has only one channel\n",
    "            if len(np.shape(temp_im)) == 2:\n",
    "                temp_im = np.stack([temp_im,temp_im,temp_im],axis=2)\n",
    "            # Resize image\n",
    "            resized_temp_im = sess.run(g.get_tensor_by_name('Preprocessing/Sub:0'),{input_im:[temp_im]})\n",
    "            image_batch.append(resized_temp_im[0])\n",
    "        \n",
    "            # Choose one of the five captions randomly\n",
    "            r = random.randrange(len(train_dict[train_image_list[i+j]]))\n",
    "            caption_batch.append(train_dict[train_image_list[i+j]][r])\n",
    "\n",
    "        caption_batch = np.stack(caption_batch, axis=0)\n",
    "        image_batch = np.stack(image_batch, axis=0)\n",
    "        [batch_cost, _] = sess.run([cost_summary, train_step], feed_dict={input_im:image_batch, y:caption_batch})\n",
    "        train_writer.add_summary(batch_cost, i)\n",
    "        print(i, end=' ')\n",
    "\n",
    "#        # Get prediction\n",
    "#        class_pred = np.argmax(sess.run(g.get_tensor_by_name('InceptionV3/Predictions/Softmax:0'),{input_im:image}))\n",
    "#        print(labels[class_pred])\n",
    "\n",
    "        # Evaluate every 25th step\n",
    "        if i % 25 == 0:\n",
    "            val_image_batch = []\n",
    "            val_caption_batch = []\n",
    "            for j in range(val_set_size):\n",
    "                temp_im = np.array(Image.open(val_image_path + val_image_list[j]))\n",
    "                # If image has only one channel\n",
    "                if len(np.shape(temp_im)) == 2:\n",
    "                    temp_im = np.stack([temp_im,temp_im,temp_im],axis=2)\n",
    "                # Resize image\n",
    "                resized_temp_im = sess.run(g.get_tensor_by_name('Preprocessing/Sub:0'),{input_im:[temp_im]})\n",
    "                val_image_batch.append(resized_temp_im[0])\n",
    "\n",
    "                # Use first caption in validation set\n",
    "                val_caption_batch.append(val_dict[val_image_list[j]][0])\n",
    "                \n",
    "            val_caption_batch = np.stack(val_caption_batch, axis=0)\n",
    "            val_image_batch = np.stack(val_image_batch, axis=0)\n",
    "            val_cost = sess.run(cost_summary, feed_dict={input_im:val_image_batch, y:val_caption_batch})\n",
    "            val_writer.add_summary(val_cost, i)\n",
    "            \n",
    "    # Save\n",
    "    os.mkdir('./runs/'+timestamp+'/checkpoint/')\n",
    "    new_saver = tf.train.Saver()\n",
    "    save_path = new_saver.save(sess, './runs/'+timestamp+'/checkpoint/model.ckpt')\n",
    "    print('\\n\\nTrained model saved to {}'.format(save_path))"
   ]
  },
  {
   "cell_type": "code",
   "execution_count": null,
   "metadata": {
    "collapsed": true
   },
   "outputs": [],
   "source": []
  }
 ],
 "metadata": {
  "kernelspec": {
   "display_name": "Python 3",
   "language": "python",
   "name": "python3"
  },
  "language_info": {
   "codemirror_mode": {
    "name": "ipython",
    "version": 3
   },
   "file_extension": ".py",
   "mimetype": "text/x-python",
   "name": "python",
   "nbconvert_exporter": "python",
   "pygments_lexer": "ipython3",
   "version": "3.6.0"
  }
 },
 "nbformat": 4,
 "nbformat_minor": 2
}
