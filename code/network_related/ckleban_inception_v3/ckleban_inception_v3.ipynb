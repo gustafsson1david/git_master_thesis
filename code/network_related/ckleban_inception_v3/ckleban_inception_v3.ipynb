{
 "cells": [
  {
   "cell_type": "markdown",
   "metadata": {},
   "source": [
    "# Import"
   ]
  },
  {
   "cell_type": "code",
   "execution_count": 1,
   "metadata": {
    "collapsed": false
   },
   "outputs": [],
   "source": [
    "import os\n",
    "import numpy as np\n",
    "import tensorflow as tf\n",
    "import random\n",
    "from gensim.models.word2vec import Word2Vec\n",
    "import gc\n",
    "import time\n",
    "import pickle"
   ]
  },
  {
   "cell_type": "markdown",
   "metadata": {},
   "source": [
    "# Load graph"
   ]
  },
  {
   "cell_type": "code",
   "execution_count": 2,
   "metadata": {
    "collapsed": false
   },
   "outputs": [],
   "source": [
    "with tf.gfile.FastGFile(os.path.join(\n",
    "    '../../../data/inception-2015-12-05/classify_image_graph_def.pb'), 'rb') as f:\n",
    "    graph_def = tf.GraphDef()\n",
    "    graph_def.ParseFromString(f.read())\n",
    "    _ = tf.import_graph_def(graph_def, name='')\n",
    "g = tf.get_default_graph()"
   ]
  },
  {
   "cell_type": "markdown",
   "metadata": {},
   "source": [
    "## Create own branch"
   ]
  },
  {
   "cell_type": "code",
   "execution_count": 3,
   "metadata": {
    "collapsed": false,
    "scrolled": true
   },
   "outputs": [],
   "source": [
    "with tf.name_scope('own'):\n",
    "    y = tf.placeholder(\"float\")\n",
    "    x = g.get_tensor_by_name('pool_3/_reshape:0')\n",
    "    w = tf.Variable(tf.random_normal(\n",
    "        [int(x.get_shape()[-1]),300], stddev=float('1e-5')), name='weights')\n",
    "    b = tf.Variable(tf.random_normal([1,300]), name='bias')\n",
    "    y_pred = tf.add(tf.matmul(x, w), b, name='y_pred')\n",
    "    cost = tf.reduce_sum(tf.square(y-y_pred),name='cost')\n",
    "    cost_summary = tf.summary.scalar('cost', cost)\n",
    "    optimizer = tf.train.GradientDescentOptimizer(learning_rate=float('1e-5')).minimize(cost)"
   ]
  },
  {
   "cell_type": "markdown",
   "metadata": {
    "collapsed": true
   },
   "source": [
    "# Read data"
   ]
  },
  {
   "cell_type": "code",
   "execution_count": 4,
   "metadata": {
    "collapsed": false
   },
   "outputs": [],
   "source": [
    "# Images\n",
    "image_path = '../../../data/train2014/'\n",
    "image_list = os.listdir(image_path)\n",
    "\n",
    "# Caption dictionaries\n",
    "vec_dict = np.load('../../../data/word2vec_train.npy').item()\n",
    "#with open('../../../data/caption_train.pkl', 'rb') as f:\n",
    "#    string_dict = pickle.load(f)"
   ]
  },
  {
   "cell_type": "markdown",
   "metadata": {},
   "source": [
    "# Train model"
   ]
  },
  {
   "cell_type": "code",
   "execution_count": 6,
   "metadata": {
    "collapsed": false
   },
   "outputs": [
    {
     "name": "stdout",
     "output_type": "stream",
     "text": [
      "TRAINING\n",
      "0 10 20 30 40 50 60 70 80 90 100 110 120 130 140 150 160 170 180 190 200 210 220 230 240 250 260 270 280 290 300 310 320 330 340 350 360 370 380 390 400 410 420 430 440 450 460 470 480 490 500 510 520 530 540 550 560 570 580 590 600 610 620 630 640 650 660 670 680 690 700 710 720 730 740 750 760 770 780 790 800 810 820 830 840 850 860 870 880 890 900 910 920 930 940 950 960 970 980 990 \n",
      "\n",
      "\n",
      "SAVING NEW DICTIONARY\n",
      "0 10 20 30 40 50 60 70 80 90 100 110 120 130 140 150 160 170 180 190 200 210 220 230 240 250 260 270 280 290 300 310 320 330 340 350 360 370 380 390 400 410 420 430 440 450 460 470 480 490 500 510 520 530 540 550 560 570 580 590 600 610 620 630 640 650 660 670 680 690 700 710 720 730 740 750 760 770 780 790 800 810 820 830 840 850 860 870 880 890 900 910 920 930 940 950 960 970 980 990 1000 1010 1020 1030 1040 1050 1060 1070 1080 1090 1100 1110 1120 1130 1140 1150 1160 1170 1180 1190 1200 1210 1220 1230 1240 1250 1260 1270 1280 1290 1300 1310 1320 1330 1340 1350 1360 1370 1380 1390 1400 1410 1420 1430 1440 1450 1460 1470 1480 1490 1500 1510 1520 1530 1540 1550 1560 1570 1580 1590 1600 1610 1620 1630 1640 1650 1660 1670 1680 1690 1700 1710 1720 1730 1740 1750 1760 1770 1780 1790 1800 1810 1820 1830 1840 1850 1860 1870 1880 1890 1900 1910 1920 1930 1940 1950 1960 1970 1980 1990 2000 2010 2020 2030 2040 2050 2060 2070 2080 2090 2100 2110 2120 2130 2140 2150 2160 2170 2180 2190 2200 2210 2220 2230 2240 2250 2260 2270 2280 2290 2300 2310 2320 2330 2340 2350 2360 2370 2380 2390 2400 2410 2420 2430 2440 2450 2460 2470 2480 2490 2500 2510 2520 2530 2540 2550 2560 2570 2580 2590 2600 2610 2620 2630 2640 2650 2660 2670 2680 2690 2700 2710 2720 2730 2740 2750 2760 2770 2780 2790 2800 2810 2820 2830 2840 2850 2860 2870 2880 2890 2900 2910 2920 2930 2940 2950 2960 2970 2980 2990 3000 3010 3020 3030 3040 3050 3060 3070 3080 3090 3100 3110 3120 3130 3140 3150 3160 3170 3180 3190 3200 3210 3220 3230 3240 3250 3260 3270 3280 3290 3300 3310 3320 3330 3340 3350 3360 3370 3380 3390 3400 3410 3420 3430 3440 3450 3460 3470 3480 3490 3500 3510 3520 3530 3540 3550 3560 3570 3580 3590 3600 3610 3620 3630 3640 3650 3660 3670 3680 3690 3700 3710 3720 3730 3740 3750 3760 3770 3780 3790 3800 3810 3820 3830 3840 3850 3860 3870 3880 3890 3900 3910 3920 3930 3940 3950 3960 3970 3980 3990 4000 4010 4020 4030 4040 4050 4060 4070 4080 4090 4100 4110 4120 4130 4140 4150 4160 4170 4180 4190 4200 4210 4220 4230 4240 4250 4260 4270 4280 4290 4300 4310 4320 4330 4340 4350 4360 4370 4380 4390 4400 4410 4420 4430 4440 4450 4460 4470 4480 4490 4500 4510 4520 4530 4540 4550 4560 4570 4580 4590 4600 4610 4620 4630 4640 4650 4660 4670 4680 4690 4700 4710 4720 4730 4740 4750 4760 4770 4780 4790 4800 4810 4820 4830 4840 4850 4860 4870 4880 4890 4900 4910 4920 4930 4940 4950 4960 4970 4980 4990 "
     ]
    }
   ],
   "source": [
    "with tf.Session(graph=g) as sess:\n",
    "    # Initialize writers\n",
    "    timestamp = time.strftime('%Y%m%d-%H%M', time.localtime())\n",
    "    train_writer = tf.summary.FileWriter('./sums/train/'+timestamp, graph=g, flush_secs=20)\n",
    "    test_writer = tf.summary.FileWriter('./sums/test/'+timestamp, graph=g, flush_secs=20)\n",
    "    \n",
    "    sess.run([w.initializer, b.initializer])\n",
    "    \n",
    "    # Train\n",
    "    print('TRAINING')\n",
    "    for i, im in enumerate(image_list[:1000]):\n",
    "        image = tf.gfile.FastGFile(image_path + im, 'rb').read()\n",
    "        # Choose one of the five captions randomly\n",
    "        r = random.randrange(len(vec_dict[im]))\n",
    "        y_temp = vec_dict[im][r].reshape((1,300))\n",
    "\n",
    "        sess.run(optimizer,feed_dict={'DecodeJpeg/contents:0':image, y:y_temp})\n",
    "        train_writer.add_summary(sess.run(cost_summary,{'DecodeJpeg/contents:0':image, y:y_temp}), i)\n",
    "        \n",
    "        if i % 10 == 0:\n",
    "            test_image = tf.gfile.FastGFile(image_path + image_list[-1], 'rb').read()\n",
    "            y_test = vec_dict[image_list[-1]][1].reshape((1,300))\n",
    "            test_writer.add_summary(sess.run(cost_summary,{'DecodeJpeg/contents:0':test_image, y:y_test}), i)\n",
    "            print(i, end=' ')\n",
    "    print('\\n\\n')\n",
    "    \n",
    "    # Save\n",
    "    print('SAVING NEW DICTIONARY')\n",
    "    new_vec_dict = {}\n",
    "    \n",
    "#    # Multi-threaded\n",
    "#    def get_vec(im):\n",
    "#        image = tf.gfile.FastGFile('../../../data/train2014/' + im, 'rb').read()\n",
    "#        v = tf.get_default_session().run(y_pred,{'DecodeJpeg/contents:0':image})\n",
    "#        global count\n",
    "#        with count.get_lock():\n",
    "#            count.value += 1\n",
    "#            print(count.value)\n",
    "#        return {im: v}\n",
    "#    from multiprocessing import Pool, Value\n",
    "#    with Pool(2) as pool:\n",
    "#        count = Value(\"i\", 0)\n",
    "#        vec_map = pool.map(get_vec, image_list[-1000:])\n",
    "#        for j in vec_map:\n",
    "#            new_vec_dict.update(j)\n",
    "            \n",
    "    # Single-threaded\n",
    "    for i, im in enumerate(image_list[1000:6000]):\n",
    "        image = tf.gfile.FastGFile(image_path + im, 'rb').read()\n",
    "        new_vec_dict[im] = sess.run(y_pred,{'DecodeJpeg/contents:0':image})\n",
    "        if i % 10 == 0:\n",
    "            print(i, end=' ')\n",
    "    \n",
    "    np.save('image_space.npy',new_vec_dict)\n",
    "        "
   ]
  },
  {
   "cell_type": "markdown",
   "metadata": {},
   "source": []
  }
 ],
 "metadata": {
  "kernelspec": {
   "display_name": "Python 3",
   "language": "python",
   "name": "python3"
  },
  "language_info": {
   "codemirror_mode": {
    "name": "ipython",
    "version": 3
   },
   "file_extension": ".py",
   "mimetype": "text/x-python",
   "name": "python",
   "nbconvert_exporter": "python",
   "pygments_lexer": "ipython3",
   "version": "3.6.0"
  }
 },
 "nbformat": 4,
 "nbformat_minor": 2
}
