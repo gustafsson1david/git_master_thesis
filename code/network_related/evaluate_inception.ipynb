{
 "cells": [
  {
   "cell_type": "markdown",
   "metadata": {},
   "source": [
    "# Imports"
   ]
  },
  {
   "cell_type": "code",
   "execution_count": 1,
   "metadata": {
    "collapsed": false
   },
   "outputs": [],
   "source": [
    "import numpy as np\n",
    "import scipy.spatial.distance\n",
    "from ui_script import show_top_5\n",
    "import pickle\n",
    "import random\n",
    "import re"
   ]
  },
  {
   "cell_type": "markdown",
   "metadata": {},
   "source": [
    "# Load word2vec"
   ]
  },
  {
   "cell_type": "code",
   "execution_count": 2,
   "metadata": {
    "collapsed": false
   },
   "outputs": [],
   "source": [
    "from gensim.models.word2vec import Word2Vec\n",
    "w2v = Word2Vec.load_word2vec_format('../../data/GoogleNews-vectors-negative300.bin', binary=True)\n",
    "w2v.init_sims(replace=True)"
   ]
  },
  {
   "cell_type": "markdown",
   "metadata": {},
   "source": [
    "# Load image vectors"
   ]
  },
  {
   "cell_type": "code",
   "execution_count": 4,
   "metadata": {
    "collapsed": false
   },
   "outputs": [],
   "source": [
    "new_vec_dict = np.load('../../data/image_space_20170213-1541.npy').item()"
   ]
  },
  {
   "cell_type": "markdown",
   "metadata": {},
   "source": [
    "# Evaluate random query image"
   ]
  },
  {
   "cell_type": "code",
   "execution_count": 15,
   "metadata": {
    "collapsed": false
   },
   "outputs": [
    {
     "name": "stdout",
     "output_type": "stream",
     "text": [
      "Done\n"
     ]
    }
   ],
   "source": [
    "# Random select query image and caption\n",
    "query_file_name = random.choice(list(new_vec_dict.keys()))\n",
    "query_vec = new_vec_dict[query_file_name]\n",
    "query_caption = ' '#w2v.most_similar(query_vec, restrict_vocab=30000, topn=1)[0][0]\n",
    "\n",
    "# top 5 images\n",
    "top5_file_names = 5*['']\n",
    "top5_captions = 5*['']\n",
    "top5_distances = 5*[float('inf')]\n",
    "top5_w2v_distances = 5*[float('inf')]\n",
    "\n",
    "# Iterate over all images\n",
    "for file_name in new_vec_dict.keys():\n",
    "    if file_name != query_file_name:\n",
    "\n",
    "        # See if current image is in top 5\n",
    "        for i, dist in enumerate(top5_distances):\n",
    "            temp_dist = scipy.spatial.distance.cosine(query_vec,new_vec_dict[file_name])\n",
    "            if temp_dist < dist:\n",
    "                top5_distances[i] = temp_dist\n",
    "                top5_file_names[i] = '../../data/val2014/' + file_name\n",
    "                break\n",
    "\n",
    "## Iterate over all captions\n",
    "#w2v_dict = np.load('../../data/word2vec_val.npy')\n",
    "#w2v_dict = w2v_dict[()]\n",
    "#with open('../../data/caption_val.pkl','rb') as data_file:\n",
    "#    caption_dict = pickle.load(data_file)\n",
    "#for file_name in w2v_dict.keys():\n",
    "#    if file_name != query_file_name:\n",
    "#\n",
    "#        # See if current image is in top 5\n",
    "#       temp_dist = scipy.spatial.distance.cosine(query_vec,w2v_dict[file_name][0])\n",
    "#        for i, dist in enumerate(top5_w2v_distances):\n",
    "#            if temp_dist < dist:\n",
    "#                top5_w2v_distances[i] = temp_dist\n",
    "##                top5_file_names[i] = '../../../data/train2014/' + file_name\n",
    "#                top5_captions[i] = caption_dict[file_name][0]\n",
    "#                break\n",
    "\n",
    "# Find most similar word in word2vec\n",
    "for i in range(5):\n",
    "    file_name = re.search('COCO.+',top5_file_names[i])[0]\n",
    "    top5_captions[i] = w2v.most_similar(\n",
    "        np.mean([query_vec,new_vec_dict[file_name]],axis=0), restrict_vocab=30000, topn=1)[0][0] \\\n",
    "            + '(' + str(top5_distances[i]) + ')'\n",
    "\n",
    "# Display result\n",
    "file_names = ['../../data/val2014/' + query_file_name] + top5_file_names\n",
    "captions = [query_caption] + top5_captions\n",
    "show_top_5(file_names, captions, height = 250, title='Image space evaluation')"
   ]
  },
  {
   "cell_type": "code",
   "execution_count": null,
   "metadata": {
    "collapsed": true
   },
   "outputs": [],
   "source": []
  }
 ],
 "metadata": {
  "kernelspec": {
   "display_name": "Python 3",
   "language": "python",
   "name": "python3"
  },
  "language_info": {
   "codemirror_mode": {
    "name": "ipython",
    "version": 3
   },
   "file_extension": ".py",
   "mimetype": "text/x-python",
   "name": "python",
   "nbconvert_exporter": "python",
   "pygments_lexer": "ipython3",
   "version": "3.6.0"
  }
 },
 "nbformat": 4,
 "nbformat_minor": 2
}
