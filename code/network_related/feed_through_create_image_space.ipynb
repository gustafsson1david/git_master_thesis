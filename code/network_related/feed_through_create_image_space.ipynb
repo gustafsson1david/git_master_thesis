{
 "cells": [
  {
   "cell_type": "markdown",
   "metadata": {},
   "source": [
    "# Import"
   ]
  },
  {
   "cell_type": "code",
   "execution_count": 1,
   "metadata": {
    "collapsed": false
   },
   "outputs": [],
   "source": [
    "import os\n",
    "import numpy as np\n",
    "import random\n",
    "import time\n",
    "from PIL import Image\n",
    "import tensorflow as tf\n",
    "import tensorflow.contrib.slim as slim\n",
    "from tensorflow.contrib.slim.python.slim.nets.inception_v3 import inception_v3\n",
    "from tensorflow.contrib.slim.python.slim.nets.inception_v3 import inception_v3_arg_scope"
   ]
  },
  {
   "cell_type": "markdown",
   "metadata": {},
   "source": [
    "# Build graph"
   ]
  },
  {
   "cell_type": "code",
   "execution_count": 2,
   "metadata": {
    "collapsed": true
   },
   "outputs": [],
   "source": [
    "g = tf.get_default_graph()"
   ]
  },
  {
   "cell_type": "markdown",
   "metadata": {},
   "source": [
    "## Define preprocessing"
   ]
  },
  {
   "cell_type": "code",
   "execution_count": 3,
   "metadata": {
    "collapsed": true
   },
   "outputs": [],
   "source": [
    "with tf.name_scope('Preprocessing'):\n",
    "    input_im = tf.placeholder(tf.uint8, shape=[None, None, None, 3], name='input_im')\n",
    "    resized_im = tf.image.resize_bilinear(tf.image.convert_image_dtype(\n",
    "        tf.convert_to_tensor(input_im) ,dtype=tf.float32), [299,299], name='resized_im')\n",
    "    normalized_im = tf.mul(tf.sub(resized_im, 0.5), 2.0, name='normalized_im')"
   ]
  },
  {
   "cell_type": "markdown",
   "metadata": {},
   "source": [
    "## Load Inception-v3 graph from slim"
   ]
  },
  {
   "cell_type": "code",
   "execution_count": 4,
   "metadata": {
    "collapsed": false
   },
   "outputs": [],
   "source": [
    "with slim.arg_scope(inception_v3_arg_scope()):\n",
    "    logits, end_points = inception_v3(normalized_im, num_classes=1001, is_training=False)\n",
    "slim_variables = [v for v in tf.global_variables() if v.name.startswith('InceptionV3/')]"
   ]
  },
  {
   "cell_type": "markdown",
   "metadata": {},
   "source": [
    "## Create own branch"
   ]
  },
  {
   "cell_type": "code",
   "execution_count": 5,
   "metadata": {
    "collapsed": false
   },
   "outputs": [],
   "source": [
    "with tf.name_scope('Own'):\n",
    "    y = tf.placeholder(\"float\")\n",
    "    x = g.get_tensor_by_name('InceptionV3/Logits/Dropout_1b/Identity:0')\n",
    "    w1 = tf.Variable(tf.random_normal([int(x.get_shape()[-1]),1000], stddev=float('1e-5')), name='weights_1')\n",
    "    b1 = tf.Variable(tf.random_normal([1,1000]), name='bias_1')\n",
    "    a1 = tf.add(tf.matmul(tf.squeeze(x), w1), b1, name='a_1')\n",
    "    z1 = tf.nn.relu(a1, name='relu_1')\n",
    "    w2 = tf.Variable(tf.random_normal([int(w1.get_shape()[-1]),300], stddev=float('1e-5')), name='weights_2')\n",
    "    b2 = tf.Variable(tf.random_normal([1,300]), name='bias_2')\n",
    "    y_pred = tf.add(tf.matmul(z1, w2), b2, name='y_pred')\n",
    "    cost = tf.reduce_sum(tf.square(y-y_pred),name='cost')\n",
    "    cost_summary = tf.summary.scalar('cost', cost)"
   ]
  },
  {
   "cell_type": "markdown",
   "metadata": {
    "collapsed": true
   },
   "source": [
    "# Read data"
   ]
  },
  {
   "cell_type": "code",
   "execution_count": 6,
   "metadata": {
    "collapsed": false
   },
   "outputs": [],
   "source": [
    "# Images\n",
    "val_image_path = '../../data/val2014/'\n",
    "val_image_list = os.listdir(val_image_path)"
   ]
  },
  {
   "cell_type": "markdown",
   "metadata": {},
   "source": [
    "# Feed through"
   ]
  },
  {
   "cell_type": "code",
   "execution_count": null,
   "metadata": {
    "collapsed": false,
    "scrolled": false
   },
   "outputs": [
    {
     "name": "stdout",
     "output_type": "stream",
     "text": [
      "0 100 200 300 400 500 600 700 800 900 1000 1100 1200 1300 1400 1500 1600 1700 1800 1900 2000 2100 2200 2300 2400 2500 2600 2700 2800 2900 3000 3100 3200 3300 3400 3500 3600 3700 3800 3900 4000 4100 4200 4300 4400 4500 4600 4700 4800 4900 5000 5100 5200 5300 5400 5500 5600 5700 5800 5900 6000 6100 6200 6300 6400 6500 6600 6700 6800 6900 7000 7100 7200 7300 7400 7500 7600 7700 7800 7900 8000 8100 8200 8300 8400 8500 8600 8700 8800 8900 9000 9100 9200 9300 9400 9500 9600 9700 9800 9900 10000 10100 10200 10300 10400 10500 10600 10700 10800 10900 11000 "
     ]
    }
   ],
   "source": [
    "with tf.Session() as sess:\n",
    "    \n",
    "    # Initialize variables\n",
    "    checkpoint = '20170306-1722'\n",
    "    saver = tf.train.Saver()\n",
    "    latest_checkpoint = tf.train.latest_checkpoint(\n",
    "        './slim_inception_v3/runs/' + checkpoint + '/checkpoint/')\n",
    "    saver.restore(sess, latest_checkpoint)\n",
    "    \n",
    "    # Form batch and feed through\n",
    "    new_vec_dict = {}\n",
    "    for i in range(len(val_image_list))[::100]:\n",
    "        image_batch = []\n",
    "        # Form batch and feed through\n",
    "        for j in range(100):\n",
    "            try:\n",
    "                temp_im = np.array(Image.open(val_image_path + val_image_list[i+j]))\n",
    "                # If image has only one channel\n",
    "                if len(np.shape(temp_im)) == 2:\n",
    "                    temp_im = np.stack([temp_im,temp_im,temp_im],axis=2)\n",
    "                # Resize image\n",
    "                resized_temp_im = sess.run(normalized_im,{input_im:[temp_im]})\n",
    "                image_batch.append(resized_temp_im[0])\n",
    "            except IndexError:\n",
    "                pass\n",
    "        \n",
    "        image_batch = np.stack(image_batch, axis=0)\n",
    "        temp_return = sess.run(y_pred, {normalized_im:image_batch})\n",
    "        for j in range(100):\n",
    "            new_vec_dict[val_image_list[i+j]] = temp_return[j,:]\n",
    "        print(i, end=' ')\n",
    "    \n",
    "    save_path = '../../data/image_space_' + checkpoint + '.npy'\n",
    "    np.save(save_path,new_vec_dict)\n",
    "    print('\\n\\nImage space saved to {}'.format(save_path))"
   ]
  },
  {
   "cell_type": "code",
   "execution_count": null,
   "metadata": {
    "collapsed": true
   },
   "outputs": [],
   "source": []
  }
 ],
 "metadata": {
  "kernelspec": {
   "display_name": "Python 3",
   "language": "python",
   "name": "python3"
  },
  "language_info": {
   "codemirror_mode": {
    "name": "ipython",
    "version": 3
   },
   "file_extension": ".py",
   "mimetype": "text/x-python",
   "name": "python",
   "nbconvert_exporter": "python",
   "pygments_lexer": "ipython3",
   "version": "3.6.0"
  }
 },
 "nbformat": 4,
 "nbformat_minor": 2
}
