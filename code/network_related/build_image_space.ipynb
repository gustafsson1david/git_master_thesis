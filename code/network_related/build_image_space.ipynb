{
 "cells": [
  {
   "cell_type": "code",
   "execution_count": null,
   "metadata": {
    "collapsed": false
   },
   "outputs": [],
   "source": [
    "import os\n",
    "from slim_inception_v3 import SlimInceptionV3\n",
    "import numpy as np\n",
    "net = SlimInceptionV3()\n",
    "checkpoint = '20170316-1237'\n",
    "net.restore_model('./runs/'+checkpoint+'/checkpoint/')"
   ]
  },
  {
   "cell_type": "code",
   "execution_count": null,
   "metadata": {
    "collapsed": false
   },
   "outputs": [],
   "source": [
    "val_image_path = '../../data/val2014/'\n",
    "val_image_list = os.listdir(val_image_path)"
   ]
  },
  {
   "cell_type": "code",
   "execution_count": null,
   "metadata": {
    "collapsed": false
   },
   "outputs": [],
   "source": [
    "# Form batch and feed through\n",
    "new_vec_dict = {}\n",
    "for i in range(len(val_image_list))[::100]:\n",
    "    try:\n",
    "        # Form batch and feed through\n",
    "        image_batch = [val_image_path + val_image_list[i+j] for j in range(100)]\n",
    "        temp_return = net.predict(image_batch)\n",
    "        for j in range(len(temp_return)):\n",
    "            new_vec_dict[val_image_list[i+j]] = temp_return[j,:]\n",
    "        print(i+1, end=' ')\n",
    "    except KeyboardInterrupt:\n",
    "        break"
   ]
  },
  {
   "cell_type": "code",
   "execution_count": null,
   "metadata": {
    "collapsed": false
   },
   "outputs": [],
   "source": [
    "save_path = '../../data/image_space_' + checkpoint + '.npy'\n",
    "np.save(save_path,new_vec_dict)\n",
    "print('\\n\\nImage space saved to {}'.format(save_path))"
   ]
  }
 ],
 "metadata": {
  "kernelspec": {
   "display_name": "Python 3",
   "language": "python",
   "name": "python3"
  },
  "language_info": {
   "codemirror_mode": {
    "name": "ipython",
    "version": 3
   },
   "file_extension": ".py",
   "mimetype": "text/x-python",
   "name": "python",
   "nbconvert_exporter": "python",
   "pygments_lexer": "ipython3",
   "version": "3.6.0"
  }
 },
 "nbformat": 4,
 "nbformat_minor": 2
}
