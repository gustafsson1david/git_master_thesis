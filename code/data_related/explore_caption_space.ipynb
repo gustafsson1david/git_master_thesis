{
 "cells": [
  {
   "cell_type": "markdown",
   "metadata": {
    "collapsed": true
   },
   "source": [
    "# Import"
   ]
  },
  {
   "cell_type": "code",
   "execution_count": null,
   "metadata": {
    "collapsed": false
   },
   "outputs": [],
   "source": [
    "import re\n",
    "#import regex as re\n",
    "import json\n",
    "import pickle\n",
    "import random\n",
    "import datetime\n",
    "import numpy as np\n",
    "from scipy import spatial\n",
    "import tensorflow as tf\n",
    "from gensim.models.keyedvectors import KeyedVectors"
   ]
  },
  {
   "cell_type": "markdown",
   "metadata": {},
   "source": [
    "# Define functions"
   ]
  },
  {
   "cell_type": "code",
   "execution_count": null,
   "metadata": {
    "collapsed": true
   },
   "outputs": [],
   "source": [
    "def sum_caption(caption):\n",
    "    caption_splitted = re.split(\"[^a-zåàâäæçéèêëîïôöœßùûüÿA-ZÅÀÂÄÆÇÉÈÊËÎÏÔÖŒÙÛÜŸ’\\-]+\",caption)\n",
    "    caption_vector = np.array(300*[0])\n",
    "    for c in caption_splitted:\n",
    "#        caption_vector = np.sum([w2v[c] for c in caption_splitted])\n",
    "        try:\n",
    "            caption_vector = caption_vector + w2v[c]\n",
    "        except KeyError:\n",
    "            pass\n",
    "    return caption_vector"
   ]
  },
  {
   "cell_type": "markdown",
   "metadata": {
    "collapsed": true
   },
   "source": [
    "# Load data"
   ]
  },
  {
   "cell_type": "code",
   "execution_count": null,
   "metadata": {
    "collapsed": false
   },
   "outputs": [],
   "source": [
    "train_path = \"mscoco/captions_val2014.json\"\n",
    "with open(train_path, 'r') as train_file:\n",
    "    train_dict = json.load(train_file)\n",
    "    \n",
    "    print(\"Number of images: {}\".format(len(train_dict[\"images\"])))\n",
    "    for inst in train_dict[\"images\"][:3]:\n",
    "        print(inst)\n",
    "    print()\n",
    "    \n",
    "    print(\"Number of annotations: {}\".format(len(train_dict[\"annotations\"])))\n",
    "    for inst in train_dict[\"annotations\"][:3]:\n",
    "        print(inst)"
   ]
  },
  {
   "cell_type": "markdown",
   "metadata": {},
   "source": [
    "### Re-structure"
   ]
  },
  {
   "cell_type": "code",
   "execution_count": null,
   "metadata": {
    "collapsed": false
   },
   "outputs": [],
   "source": [
    "# Maybe have dict keys as strings\n",
    "own_dict = {}\n",
    "for im in train_dict[\"images\"]:\n",
    "    own_dict[im[\"id\"]] = {}\n",
    "    own_dict[im[\"id\"]][\"url\"] = im[\"flickr_url\"]\n",
    "for cap in train_dict[\"annotations\"]:\n",
    "    try:\n",
    "        own_dict[cap[\"image_id\"]][\"captions\"].append(cap[\"caption\"])\n",
    "    except KeyError:\n",
    "        own_dict[cap[\"image_id\"]][\"captions\"] = [cap[\"caption\"]]"
   ]
  },
  {
   "cell_type": "code",
   "execution_count": null,
   "metadata": {
    "collapsed": false
   },
   "outputs": [],
   "source": [
    "len(own_dict)\n",
    "for a in own_dict.items():\n",
    "    print(a)\n",
    "    break"
   ]
  },
  {
   "cell_type": "markdown",
   "metadata": {},
   "source": [
    "# Build vocabulary"
   ]
  },
  {
   "cell_type": "code",
   "execution_count": null,
   "metadata": {
    "collapsed": false
   },
   "outputs": [],
   "source": [
    "#word_set = set()\n",
    "#for inst in train_dict[\"annotations\"][:3]:\n",
    "#    word_set = word_set.union(re.split(\"[^a-zåàâäæçéèêëîïôöœßùûüÿA-ZÅÀÂÄÆÇÉÈÊËÎÏÔÖŒÙÛÜŸ’\\-]+\",inst[\"caption\"].lower()))\n",
    "#word_set.remove('')\n",
    "#print(word_set)\n",
    "\n",
    "from gensim import corpora\n",
    "documents = []\n",
    "for im in own_dict.values():\n",
    "    documents.extend(im[\"captions\"])\n",
    "documents = [d.lower() for d in documents]"
   ]
  },
  {
   "cell_type": "markdown",
   "metadata": {},
   "source": [
    "### Preview structure of document list"
   ]
  },
  {
   "cell_type": "code",
   "execution_count": null,
   "metadata": {
    "collapsed": false,
    "scrolled": true
   },
   "outputs": [],
   "source": [
    "print(len(documents))\n",
    "print(documents[:10])"
   ]
  },
  {
   "cell_type": "markdown",
   "metadata": {
    "collapsed": true
   },
   "source": [
    "# Load word2vec"
   ]
  },
  {
   "cell_type": "code",
   "execution_count": null,
   "metadata": {
    "collapsed": false
   },
   "outputs": [],
   "source": [
    "w2v = KeyedVectors.load_word2vec_format('../../data/GoogleNews-vectors-negative300.bin.gz',binary=True)"
   ]
  },
  {
   "cell_type": "markdown",
   "metadata": {},
   "source": [
    "### Try similarity"
   ]
  },
  {
   "cell_type": "code",
   "execution_count": null,
   "metadata": {
    "collapsed": false
   },
   "outputs": [],
   "source": [
    "query_image = random.choice(list(own_dict.keys()))\n",
    "# Use all captions for query image\n",
    "query_vector = sum_caption(own_dict[query_image][\"captions\"][1])\n",
    "curr_best = {\"im\":0, \"dist\":float(\"inf\"), \"cap_nr\":-1}\n",
    "for im in own_dict.items():\n",
    "    if im[0] != query_image:\n",
    "        for j in range(len(im[1][\"captions\"])):\n",
    "            temp_vector = sum_caption(own_dict[im[0]][\"captions\"][j])\n",
    "            if spatial.distance.cosine(query_vector,temp_vector) < curr_best[\"dist\"]:\n",
    "                curr_best[\"dist\"] = spatial.distance.cosine(query_vector,temp_vector)\n",
    "                curr_best[\"im\"] = im[0]\n",
    "                curr_best[\"cap_nr\"] = j\n",
    "                \n",
    "# Show images\n",
    "import webbrowser\n",
    "webbrowser.open_new(own_dict[query_image][\"url\"])\n",
    "webbrowser.open_new_tab(own_dict[curr_best[\"im\"]][\"url\"])\n",
    "print(own_dict[query_image][\"url\"])\n",
    "print(own_dict[query_image][\"captions\"][1])\n",
    "print(own_dict[curr_best[\"im\"]][\"url\"])\n",
    "print(own_dict[curr_best[\"im\"]][\"captions\"][curr_best[\"cap_nr\"]])"
   ]
  },
  {
   "cell_type": "code",
   "execution_count": null,
   "metadata": {
    "collapsed": true
   },
   "outputs": [],
   "source": []
  }
 ],
 "metadata": {
  "kernelspec": {
   "display_name": "Python 3",
   "language": "python",
   "name": "python3"
  },
  "language_info": {
   "codemirror_mode": {
    "name": "ipython",
    "version": 3
   },
   "file_extension": ".py",
   "mimetype": "text/x-python",
   "name": "python",
   "nbconvert_exporter": "python",
   "pygments_lexer": "ipython3",
   "version": "3.6.0"
  }
 },
 "nbformat": 4,
 "nbformat_minor": 0
}
