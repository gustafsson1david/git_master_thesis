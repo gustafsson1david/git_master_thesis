{
 "cells": [
  {
   "cell_type": "markdown",
   "metadata": {},
   "source": [
    "# Imports"
   ]
  },
  {
   "cell_type": "code",
   "execution_count": 11,
   "metadata": {
    "collapsed": false
   },
   "outputs": [],
   "source": [
    "import numpy as np\n",
    "import scipy.spatial.distance\n",
    "from ui_script import show_top_5\n",
    "import pickle\n",
    "import random\n",
    "w2v_dic = np.load('../../data/word2vec_train.npy')\n",
    "w2v_dic = w2v_dic[()]\n",
    "with open('../../data/caption_train.pkl','rb') as data_file:\n",
    "    caption_dic = pickle.load(data_file)"
   ]
  },
  {
   "cell_type": "markdown",
   "metadata": {},
   "source": [
    "# Evaluate a query image and caption"
   ]
  },
  {
   "cell_type": "code",
   "execution_count": 28,
   "metadata": {
    "collapsed": false
   },
   "outputs": [],
   "source": [
    "# Random select query image and caption\n",
    "query_file_name = random.choice(list(w2v_dic.keys()))\n",
    "idx = random.randint(1,len(w2v_dic[query_file_name])) - 1\n",
    "query_w2v = w2v_dic[query_file_name][idx]\n",
    "query_caption = caption_dic[query_file_name][idx]\n",
    "\n",
    "# top 5 images\n",
    "top5_file_names = ['a', 'a', 'a', 'a', 'a']\n",
    "top5_captions = ['a', 'a', 'a', 'a', 'a']\n",
    "top5_distances = [1.0, 1.0, 1.0, 1.0, 1.0]\n",
    "\n",
    "# Iterate over all images\n",
    "for file_name in w2v_dic.keys():\n",
    "    if file_name != query_file_name:\n",
    "        \n",
    "        # Iterate over all captions belonging to an image\n",
    "        closest_distance = 1.0\n",
    "        idx = -1\n",
    "        for i, w2v in enumerate(w2v_dic[file_name]):\n",
    "            dis = scipy.spatial.distance.cosine(query_w2v,w2v)\n",
    "            if dis < closest_distance:\n",
    "                closest_distance = dis\n",
    "                idx = i\n",
    "        \n",
    "        # See if closest caption is in top 5\n",
    "        for i, dis in enumerate(top5_distances):\n",
    "            if closest_distance < dis:\n",
    "                top5_distances[i] = closest_distance\n",
    "                top5_captions[i] = caption_dic[file_name][idx] + \"; \" + str(round(closest_distance, 4))\n",
    "                top5_file_names[i] = '../../data/train2014/' + file_name\n",
    "                break\n",
    "        \n",
    "# Display result\n",
    "file_names = ['../../data/train2014/' + query_file_name] + top5_file_names\n",
    "captions = [query_caption] + top5_captions\n",
    "show_top_5(file_names, captions)"
   ]
  }
 ],
 "metadata": {
  "kernelspec": {
   "display_name": "Python 3",
   "language": "python",
   "name": "python3"
  },
  "language_info": {
   "codemirror_mode": {
    "name": "ipython",
    "version": 3
   },
   "file_extension": ".py",
   "mimetype": "text/x-python",
   "name": "python",
   "nbconvert_exporter": "python",
   "pygments_lexer": "ipython3",
   "version": "3.6.0"
  }
 },
 "nbformat": 4,
 "nbformat_minor": 2
}
