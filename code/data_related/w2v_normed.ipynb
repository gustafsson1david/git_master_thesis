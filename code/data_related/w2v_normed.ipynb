{
 "cells": [
  {
   "cell_type": "code",
   "execution_count": 5,
   "metadata": {
    "collapsed": false,
    "deletable": true,
    "editable": true
   },
   "outputs": [],
   "source": [
    "from gensim.models.keyedvectors import KeyedVectors\n",
    "import numpy as np\n",
    "import scipy\n",
    "from scipy import spatial\n",
    "w2v = KeyedVectors.load_word2vec_format('../../data/GoogleNews-vectors-negative300.bin.gz', binary=True)\n",
    "w2v_norm = KeyedVectors.load_word2vec_format('../../data/GoogleNews-vectors-negative300.bin.gz', binary=True)\n",
    "w2v_norm.init_sims(replace=True)"
   ]
  },
  {
   "cell_type": "code",
   "execution_count": 6,
   "metadata": {
    "collapsed": false,
    "deletable": true,
    "editable": true
   },
   "outputs": [
    {
     "name": "stdout",
     "output_type": "stream",
     "text": [
      "2.69191\n",
      "1.0\n"
     ]
    }
   ],
   "source": [
    "print(np.linalg.norm(w2v['jump']))\n",
    "print(np.linalg.norm(w2v_norm['jump']))"
   ]
  },
  {
   "cell_type": "code",
   "execution_count": 28,
   "metadata": {
    "collapsed": false
   },
   "outputs": [
    {
     "name": "stdout",
     "output_type": "stream",
     "text": [
      "[('herd', 0.5689249038696289), ('zebra', 0.5679833889007568), ('fenced_pasture', 0.5143769383430481), ('rocky', 0.5032358765602112), ('goats', 0.48821842670440674)]\n",
      "[('each', 0.5237182974815369), ('near', 0.5134539008140564), ('%_#F########_9v.jsn', 0.5070157051086426), ('other', 0.5028666853904724), ('%_#F########_7v.jsn', 0.49944329261779785)]\n"
     ]
    }
   ],
   "source": [
    "s1 = 'a room with a television, couch, chair, tables and potted plants'\n",
    "s1 = 'a motorcycle with a red and shiny side car'\n",
    "s1 = 'a herd of zebra standing next to each other near a rocky hillside.'\n",
    "v1 = np.zeros([1,300])\n",
    "v1_norm = np.zeros([1,300])\n",
    "for s in s1.split():\n",
    "    try:\n",
    "        v1 += w2v[s]\n",
    "        v1_norm += w2v_norm[s]\n",
    "    except KeyError:\n",
    "        pass\n",
    "print(w2v.most_similar(v1, restrict_vocab=1000000, topn=5))\n",
    "print(w2v.most_similar(v1_norm, restrict_vocab=1000000, topn=5))"
   ]
  },
  {
   "cell_type": "code",
   "execution_count": 25,
   "metadata": {
    "collapsed": false
   },
   "outputs": [
    {
     "name": "stdout",
     "output_type": "stream",
     "text": [
      "herd: 3.1394941806793213\n",
      "zebra: 3.4419772624969482\n",
      "standing: 2.1839067935943604\n",
      "next: 2.0575129985809326\n",
      "each: 1.9831125736236572\n",
      "other: 1.6679582595825195\n",
      "near: 2.2158114910125732\n",
      "rocky: 3.117110013961792\n"
     ]
    }
   ],
   "source": [
    "for s in s1.split():\n",
    "    try:\n",
    "        print('{}: {}'.format(s, np.linalg.norm(w2v[s])))\n",
    "    except KeyError:\n",
    "        pass"
   ]
  }
 ],
 "metadata": {
  "kernelspec": {
   "display_name": "Python 3",
   "language": "python",
   "name": "python3"
  },
  "language_info": {
   "codemirror_mode": {
    "name": "ipython",
    "version": 3
   },
   "file_extension": ".py",
   "mimetype": "text/x-python",
   "name": "python",
   "nbconvert_exporter": "python",
   "pygments_lexer": "ipython3",
   "version": "3.5.2"
  }
 },
 "nbformat": 4,
 "nbformat_minor": 2
}
