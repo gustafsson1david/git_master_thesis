{
 "cells": [
  {
   "cell_type": "code",
   "execution_count": null,
   "metadata": {
    "collapsed": false,
    "deletable": true,
    "editable": true
   },
   "outputs": [],
   "source": [
    "import numpy as np\n",
    "import sys\n",
    "import importlib\n",
    "sys.path.insert(0, '../network_related/slim_inception_v3/')\n",
    "from slim_inception_v3 import SlimInceptionV3\n",
    "net = SlimInceptionV3()\n",
    "from evaluate import Evaluation"
   ]
  },
  {
   "cell_type": "code",
   "execution_count": null,
   "metadata": {
    "collapsed": false,
    "deletable": true,
    "editable": true
   },
   "outputs": [],
   "source": [
    "net.restore_model('20170415-1810')"
   ]
  },
  {
   "cell_type": "code",
   "execution_count": null,
   "metadata": {
    "collapsed": false,
    "deletable": true,
    "editable": true,
    "scrolled": false
   },
   "outputs": [],
   "source": [
    "path_to_eval = '../../data/sun/'\n",
    "path_to_words = '../../data/new_scene_names.npy'\n",
    "evaluator = Evaluation()\n",
    "map_score = evaluator.evaluate(model=net, path_to_eval=path_to_eval, path_to_words=path_to_words)"
   ]
  },
  {
   "cell_type": "code",
   "execution_count": null,
   "metadata": {
    "collapsed": false
   },
   "outputs": [],
   "source": [
    "import matplotlib.pyplot as plt\n",
    "%matplotlib inline\n",
    "stop = 500\n",
    "range_list = np.array(list(range(len(map_score[2])))) + 1\n",
    "plt.bar(range_list[:stop], map_score[2][:stop])\n",
    "plt.title(\"Image Retrieval\")\n",
    "plt.xlabel(\"Ranking\")\n",
    "plt.ylabel(\"Amount\")"
   ]
  },
  {
   "cell_type": "code",
   "execution_count": null,
   "metadata": {
    "collapsed": false
   },
   "outputs": [],
   "source": [
    "stop = 87\n",
    "range_list = np.array(list(range(len(map_score[3])))) + 1\n",
    "plt.bar(range_list[:stop], map_score[3][:stop])\n",
    "plt.title(\"Similarity Motivation\")\n",
    "plt.xlabel(\"Ranking\")\n",
    "plt.ylabel(\"Amount\")"
   ]
  },
  {
   "cell_type": "markdown",
   "metadata": {
    "deletable": true,
    "editable": true
   },
   "source": [
    "# Calculate map given randomly ranked list"
   ]
  },
  {
   "cell_type": "code",
   "execution_count": null,
   "metadata": {
    "collapsed": true,
    "deletable": true,
    "editable": true
   },
   "outputs": [],
   "source": [
    "import operator as op\n",
    "import functools\n",
    "def ncr(n, r):\n",
    "    r = min(r, n-r)\n",
    "    if r == 0: return 1\n",
    "    numer = functools.reduce(op.mul, range(n, n-r, -1))\n",
    "    denom = functools.reduce(op.mul, range(1, r+1))\n",
    "    return numer//denom"
   ]
  },
  {
   "cell_type": "code",
   "execution_count": null,
   "metadata": {
    "collapsed": false,
    "deletable": true,
    "editable": true
   },
   "outputs": [],
   "source": [
    "RandomAPExact = 0\n",
    "N = 87*20\n",
    "R = 19\n",
    "\n",
    "for i in range(1, (R+1)):\n",
    "    for n in range(i, (N-R+i)):\n",
    "        prob = ncr(R,i)*ncr(N-R,n-i)/ncr(N,n)\n",
    "        RandomAPExact = RandomAPExact + (i/n)*(i/n)*prob\n",
    "RandomAPExact = RandomAPExact/float(R)\n",
    "print(RandomAPExact)"
   ]
  }
 ],
 "metadata": {
  "kernelspec": {
   "display_name": "Python 3",
   "language": "python",
   "name": "python3"
  },
  "language_info": {
   "codemirror_mode": {
    "name": "ipython",
    "version": 3
   },
   "file_extension": ".py",
   "mimetype": "text/x-python",
   "name": "python",
   "nbconvert_exporter": "python",
   "pygments_lexer": "ipython3",
   "version": "3.6.0"
  }
 },
 "nbformat": 4,
 "nbformat_minor": 2
}
