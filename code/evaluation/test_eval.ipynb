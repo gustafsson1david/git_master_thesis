{
 "cells": [
  {
   "cell_type": "code",
   "execution_count": null,
   "metadata": {
    "collapsed": true
   },
   "outputs": [],
   "source": [
    "import numpy as np\n",
    "import sys\n",
    "import importlib\n",
    "sys.path.insert(0, '../network_related/slim_inception_v3/')\n",
    "from slim_inception_v3 import SlimInceptionV3\n",
    "net = SlimInceptionV3()\n",
    "import evaluate"
   ]
  },
  {
   "cell_type": "code",
   "execution_count": null,
   "metadata": {
    "collapsed": false,
    "scrolled": true
   },
   "outputs": [],
   "source": [
    "net.restore_model(meta_graph_path='runs/20170315-1830/checkpoint/model.meta',\n",
    "                 checkpoint_dir='runs/20170315-1830/checkpoint/')"
   ]
  },
  {
   "cell_type": "code",
   "execution_count": null,
   "metadata": {
    "collapsed": false
   },
   "outputs": [],
   "source": [
    "importlib.reload(evaluate)\n",
    "path_to_eval = '../../data/sun/'\n",
    "path_to_words = '../../data/scenes_vec.npy'\n",
    "map_score = evaluate.evaluate(net, path_to_eval, path_to_words)"
   ]
  },
  {
   "cell_type": "markdown",
   "metadata": {},
   "source": [
    "# Calculate map given randomly ranked list"
   ]
  },
  {
   "cell_type": "code",
   "execution_count": null,
   "metadata": {
    "collapsed": true
   },
   "outputs": [],
   "source": [
    "import operator as op\n",
    "import functools\n",
    "def ncr(n, r):\n",
    "    r = min(r, n-r)\n",
    "    if r == 0: return 1\n",
    "    numer = functools.reduce(op.mul, range(n, n-r, -1))\n",
    "    denom = functools.reduce(op.mul, range(1, r+1))\n",
    "    return numer//denom"
   ]
  },
  {
   "cell_type": "code",
   "execution_count": null,
   "metadata": {
    "collapsed": false
   },
   "outputs": [],
   "source": [
    "RandomAPExact = 0\n",
    "N = 89*20\n",
    "R = 19\n",
    "\n",
    "for i in range(1, (R+1)):\n",
    "    for n in range(i, (N-R+i)):\n",
    "        prob = ncr(R,i)*ncr(N-R,n-i)/ncr(N,n)\n",
    "        RandomAPExact = RandomAPExact + (i/n)*(i/n)*prob\n",
    "RandomAPExact = RandomAPExact/float(R)\n",
    "print(RandomAPExact)"
   ]
  },
  {
   "cell_type": "code",
   "execution_count": null,
   "metadata": {
    "collapsed": false
   },
   "outputs": [],
   "source": [
    "for i in range(89):\n",
    "    print(str(i+1)+'.')"
   ]
  },
  {
   "cell_type": "code",
   "execution_count": null,
   "metadata": {
    "collapsed": true
   },
   "outputs": [],
   "source": []
  }
 ],
 "metadata": {
  "kernelspec": {
   "display_name": "Python 3",
   "language": "python",
   "name": "python3"
  },
  "language_info": {
   "codemirror_mode": {
    "name": "ipython",
    "version": 3
   },
   "file_extension": ".py",
   "mimetype": "text/x-python",
   "name": "python",
   "nbconvert_exporter": "python",
   "pygments_lexer": "ipython3",
   "version": "3.6.0"
  }
 },
 "nbformat": 4,
 "nbformat_minor": 2
}
