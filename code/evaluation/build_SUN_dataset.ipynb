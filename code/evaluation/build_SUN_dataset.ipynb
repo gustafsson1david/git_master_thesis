{
 "cells": [
  {
   "cell_type": "code",
   "execution_count": 4,
   "metadata": {
    "collapsed": true
   },
   "outputs": [],
   "source": [
    "import numpy as np\n",
    "import scipy.io\n",
    "import urllib.request\n",
    "import os\n",
    "import random\n",
    "import csv"
   ]
  },
  {
   "cell_type": "code",
   "execution_count": 18,
   "metadata": {
    "collapsed": false
   },
   "outputs": [],
   "source": [
    "relevant_scenes = []\n",
    "with open('../../data/relevant_scenes.csv', 'r') as data_file:\n",
    "    reader_scenes = csv.reader(data_file)\n",
    "    for row in reader_scenes:\n",
    "        relevant_scenes.append(row[0][2:-1])"
   ]
  },
  {
   "cell_type": "code",
   "execution_count": 21,
   "metadata": {
    "collapsed": false
   },
   "outputs": [
    {
     "name": "stdout",
     "output_type": "stream",
     "text": [
      "900\n"
     ]
    }
   ],
   "source": [
    "images_per_scene = 20\n",
    "\n",
    "sun = scipy.io.loadmat('../../data/SUN_urls.mat', squeeze_me=True, struct_as_record=False)\n",
    "\n",
    "scenes = {}\n",
    "for s in sun['SUN']:\n",
    "    scene_name = s.category[2:]\n",
    "    urls = s.images\n",
    "    scenes[scene_name] = urls\n",
    "print(len(scenes))"
   ]
  },
  {
   "cell_type": "code",
   "execution_count": 22,
   "metadata": {
    "collapsed": false
   },
   "outputs": [
    {
     "name": "stdout",
     "output_type": "stream",
     "text": [
      "Downloaded 20 images from \"airport\\airport\"\n",
      "Downloaded 20 images from \"alley\"\n",
      "Downloaded 20 images from \"amusement_park\"\n",
      "Downloaded 20 images from \"athletic_field\\outdoor\"\n",
      "Downloaded 20 images from \"bakery\\shop\"\n",
      "Downloaded 20 images from \"bar\"\n",
      "Downloaded 20 images from \"basketball_court\\outdoor\"\n",
      "Downloaded 20 images from \"bathroom\"\n",
      "Downloaded 20 images from \"beach\"\n",
      "Downloaded 20 images from \"bicycle_racks\"\n",
      "Downloaded 20 images from \"botanical_garden\"\n",
      "Downloaded 20 images from \"bridge\"\n",
      "Downloaded 20 images from \"bus_depot\\outdoor\"\n",
      "Downloaded 20 images from \"carport\\freestanding\"\n",
      "Downloaded 20 images from \"chalet\"\n",
      "Downloaded 20 images from \"childs_room\"\n",
      "Downloaded 20 images from \"church\\outdoor\"\n",
      "Downloaded 20 images from \"crosswalk\"\n",
      "Downloaded 20 images from \"desert\\sand\"\n",
      "Downloaded 20 images from \"downtown\"\n",
      "Downloaded 20 images from \"field\\wild\"\n",
      "Downloaded 20 images from \"fishpond\"\n",
      "Downloaded 20 images from \"forest_path\"\n",
      "Downloaded 20 images from \"freeway\"\n",
      "Downloaded 20 images from \"general_store\\indoor\"\n",
      "Downloaded 20 images from \"harbor\"\n",
      "Downloaded 20 images from \"ice_skating_rink\\indoor\"\n",
      "Downloaded 20 images from \"kitchen\"\n",
      "Downloaded 20 images from \"living_room\"\n",
      "Downloaded 20 images from \"mansion\"\n",
      "Downloaded 20 images from \"market\\outdoor\"\n",
      "Downloaded 20 images from \"mountain\"\n",
      "Downloaded 20 images from \"ocean\"\n",
      "Downloaded 20 images from \"office\"\n",
      "Downloaded 20 images from \"park\"\n",
      "Downloaded 20 images from \"pasture\"\n",
      "Downloaded 20 images from \"rainforest\"\n",
      "Downloaded 20 images from \"river\"\n",
      "Downloaded 20 images from \"skatepark\"\n",
      "Downloaded 20 images from \"ski_slope\"\n",
      "Downloaded 20 images from \"stadium\\baseball\"\n",
      "Downloaded 20 images from \"stadium\\football\"\n",
      "Downloaded 20 images from \"street\"\n",
      "Downloaded 20 images from \"tennis_court\\outdoor\"\n",
      "Downloaded 20 images from \"track\\indoor\"\n",
      "Downloaded 20 images from \"train_railway\"\n",
      "Downloaded 20 images from \"waterfall\\plunge\"\n",
      "Downloaded 20 images from \"zoo\"\n"
     ]
    }
   ],
   "source": [
    "for k, v in scenes.items():\n",
    "    if k in relevant_scenes:\n",
    "        os.makedirs('../../data/sun/'+k)\n",
    "        list_random_sample = random.sample(range(len(v)), images_per_scene)\n",
    "        for i in list_random_sample:\n",
    "            urllib.request.urlretrieve(v[i], '../../data/sun/'+k+'/'+k+'_'+str(i)+'.jpg')\n",
    "        print('Downloaded '+str(images_per_scene)+' images from \"'+k+'\"')"
   ]
  },
  {
   "cell_type": "code",
   "execution_count": 8,
   "metadata": {
    "collapsed": false
   },
   "outputs": [
    {
     "ename": "NameError",
     "evalue": "name 'row' is not defined",
     "output_type": "error",
     "traceback": [
      "\u001b[0;31m---------------------------------------------------------------------------\u001b[0m",
      "\u001b[0;31mNameError\u001b[0m                                 Traceback (most recent call last)",
      "\u001b[0;32m<ipython-input-8-f659e88ad9b9>\u001b[0m in \u001b[0;36m<module>\u001b[0;34m()\u001b[0m\n\u001b[0;32m----> 1\u001b[0;31m \u001b[0mrow\u001b[0m\u001b[0;34m\u001b[0m\u001b[0m\n\u001b[0m",
      "\u001b[0;31mNameError\u001b[0m: name 'row' is not defined"
     ]
    }
   ],
   "source": [
    "row"
   ]
  },
  {
   "cell_type": "code",
   "execution_count": 11,
   "metadata": {
    "collapsed": false
   },
   "outputs": [
    {
     "data": {
      "text/plain": [
       "dict_keys(['abbey', 'access_road', 'air_base', 'airfield', 'airlock', 'airplane_cabin', 'airport\\\\airport', 'airport\\\\entrance', 'airport_terminal', 'airport_ticket_counter', 'alcove', 'alley', 'amphitheater', 'amusement_arcade', 'amusement_park', 'anechoic_chamber', 'apartment_building\\\\outdoor', 'apse\\\\indoor', 'apse\\\\outdoor', 'aquarium', 'aquatic_theater', 'aqueduct', 'arcade', 'arch', 'archaelogical_excavation', 'archive', 'arena\\\\basketball', 'arena\\\\football', 'arena\\\\hockey', 'arena\\\\performance', 'arena\\\\rodeo', 'arena\\\\soccer', 'armory', 'army_base', 'arrival_gate\\\\indoor', 'arrival_gate\\\\outdoor', 'art_gallery', 'art_school', 'art_studio', 'artists_loft', 'assembly_line', 'athletic_field\\\\indoor', 'athletic_field\\\\outdoor', 'atrium\\\\home', 'atrium\\\\public', 'attic', 'auditorium', 'auto_factory', 'auto_mechanics\\\\indoor', 'auto_mechanics\\\\outdoor', 'auto_racing_paddock', 'auto_showroom', 'backstage', 'backstairs', 'badlands', 'badminton_court\\\\indoor', 'badminton_court\\\\outdoor', 'baggage_claim', 'bakery\\\\kitchen', 'bakery\\\\shop', 'balcony\\\\exterior', 'balcony\\\\interior', 'ball_pit', 'ballroom', 'bamboo_forest', 'bank\\\\indoor', 'bank\\\\outdoor', 'bank_vault', 'banquet_hall', 'baptistry\\\\indoor', 'baptistry\\\\outdoor', 'bar', 'barbershop', 'barn', 'barndoor', 'barnyard', 'barrack', 'baseball_field', 'basement', 'basilica', 'basketball_court\\\\indoor', 'basketball_court\\\\outdoor', 'bathhouse', 'bathroom', 'batters_box', 'batting_cage\\\\indoor', 'batting_cage\\\\outdoor', 'battlement', 'bayou', 'bazaar\\\\indoor', 'bazaar\\\\outdoor', 'beach', 'beach_house', 'beauty_salon', 'bedchamber', 'bedroom', 'beer_garden', 'beer_hall', 'belfry', 'bell_foundry', 'berth', 'berth_deck', 'betting_shop', 'bicycle_racks', 'bindery', 'biology_laboratory', 'bistro\\\\indoor', 'bistro\\\\outdoor', 'bleachers\\\\indoor', 'bleachers\\\\outdoor', 'boardwalk', 'boat_deck', 'boathouse', 'bog', 'bomb_shelter\\\\indoor', 'bookbindery', 'bookstore', 'booth\\\\indoor', 'botanical_garden', 'bow_window\\\\indoor', 'bow_window\\\\outdoor', 'bowling_alley', 'box_seat', 'boxing_ring', 'breakroom', 'brewery\\\\indoor', 'brewery\\\\outdoor', 'brickyard\\\\indoor', 'brickyard\\\\outdoor', 'bridge', 'building_complex', 'building_facade', 'bullpen', 'bullring', 'burial_chamber', 'bus_depot\\\\indoor', 'bus_depot\\\\outdoor', 'bus_interior', 'bus_shelter', 'bus_station\\\\indoor', 'bus_station\\\\outdoor', 'butchers_shop', 'butte', 'cabana', 'cabin\\\\indoor', 'cabin\\\\outdoor', 'cafeteria', 'call_center', 'campsite', 'campus', 'canal\\\\natural', 'canal\\\\urban', 'candy_store', 'canteen', 'canyon', 'car_dealership', 'car_interior\\\\backseat', 'car_interior\\\\frontseat', 'caravansary', 'cardroom', 'cargo_deck\\\\airplane', 'cargo_deck\\\\boat', 'cargo_port', 'carport\\\\freestanding', 'carport\\\\indoor', 'carport\\\\outdoor', 'carrousel', 'casino\\\\indoor', 'casino\\\\outdoor', 'castle', 'catacomb', 'cathedral\\\\indoor', 'cathedral\\\\outdoor', 'catwalk', 'cavern\\\\indoor', 'cavern\\\\outdoor', 'cemetery', 'chalet', 'chaparral', 'chapel', 'checkout_counter', 'cheese_factory', 'chemical_plant', 'chemistry_lab', 'chicken_coop\\\\indoor', 'chicken_coop\\\\outdoor', 'chicken_farm\\\\indoor', 'chicken_farm\\\\outdoor', 'childs_room', 'choir_loft\\\\exterior', 'choir_loft\\\\interior', 'church\\\\indoor', 'church\\\\outdoor', 'circus_tent\\\\indoor', 'circus_tent\\\\outdoor', 'city', 'classroom', 'clean_room', 'cliff', 'cloakroom\\\\booth', 'cloakroom\\\\room', 'clock_tower\\\\indoor', 'cloister\\\\indoor', 'cloister\\\\outdoor', 'closet', 'clothing_store', 'coast', 'coast_road', 'cockpit', 'coffee_shop', 'computer_room', 'conference_center', 'conference_hall', 'conference_room', 'confessional', 'construction_site', 'control_room', 'control_tower\\\\indoor', 'control_tower\\\\outdoor', 'convenience_store\\\\indoor', 'convenience_store\\\\outdoor', 'corn_field', 'corral', 'corridor', 'cottage', 'cottage_garden', 'courthouse', 'courtroom', 'courtyard', 'covered_bridge\\\\exterior', 'covered_bridge\\\\interior', 'crawl_space', 'creek', 'crevasse', 'crosswalk', 'cubicle\\\\library', 'cubicle\\\\office', 'cybercafe', 'dacha', 'dairy\\\\indoor', 'dairy\\\\outdoor', 'dam', 'dance_school', 'darkroom', 'day_care_center', 'delicatessen', 'dentists_office', 'department_store', 'departure_lounge', 'desert\\\\sand', 'desert\\\\vegetation', 'desert_road', 'diner\\\\indoor', 'diner\\\\outdoor', 'dinette\\\\home', 'dinette\\\\vehicle', 'dining_car', 'dining_hall', 'dining_room', 'dirt_track', 'discotheque', 'distillery', 'ditch', 'dock', 'dolmen', 'donjon', 'doorway\\\\indoor', 'doorway\\\\outdoor', 'dorm_room', 'downtown', 'drainage_ditch', 'dress_shop', 'dressing_room', 'drill_rig', 'driveway', 'driving_range\\\\indoor', 'driving_range\\\\outdoor', 'drugstore', 'dry_dock', 'dugout', 'earth_fissure', 'editing_room', 'electrical_substation', 'elevated_catwalk', 'elevator\\\\door', 'elevator\\\\exterior', 'elevator\\\\freight_elevator', 'elevator\\\\interior', 'elevator_lobby', 'elevator_shaft', 'embankment', 'embassy', 'engine_room', 'entrance_hall', 'escalator\\\\indoor', 'escalator\\\\outdoor', 'escarpment', 'estuary', 'excavation', 'exhibition_hall', 'fabric_store', 'factory\\\\indoor', 'factory\\\\outdoor', 'fairway', 'farm', 'fastfood_restaurant', 'fence', 'ferryboat\\\\cargo_deck', 'ferryboat\\\\indoor', 'ferryboat\\\\outdoor', 'ferryboat\\\\passenger_deck', 'field\\\\cultivated', 'field\\\\wild', 'field_road', 'fire_escape', 'fire_station', 'firing_range\\\\indoor', 'firing_range\\\\outdoor', 'fish_farm', 'fishmarket', 'fishpond', 'fitting_room\\\\exterior', 'fitting_room\\\\interior', 'fjord', 'flea_market\\\\indoor', 'flea_market\\\\outdoor', 'flight_of_stairs\\\\natural', 'flight_of_stairs\\\\urban', 'floating_dry_dock', 'flood', 'florist_shop\\\\indoor', 'florist_shop\\\\outdoor', 'fly_bridge', 'food_court', 'football_field', 'forest\\\\broadleaf', 'forest\\\\needleleaf', 'forest_fire', 'forest_path', 'forest_road', 'formal_garden', 'fort', 'fortress', 'foundry\\\\indoor', 'foundry\\\\outdoor', 'fountain', 'freeway', 'funeral_chapel', 'funeral_home', 'furnace_room', 'galley', 'game_room', 'gangplank', 'garage\\\\indoor', 'garage\\\\outdoor', 'garbage_dump', 'gas_station', 'gasworks', 'gate', 'gatehouse', 'gazebo\\\\exterior', 'gazebo\\\\interior', 'general_store\\\\indoor', 'general_store\\\\outdoor', 'geodesic_dome\\\\indoor', 'geodesic_dome\\\\outdoor', 'ghost_town', 'gift_shop', 'glacier', 'glade', 'golf_course', 'gorge', 'granary', 'great_hall', 'greengrocery', 'greenhouse\\\\indoor', 'greenhouse\\\\outdoor', 'grotto', 'guardhouse', 'gulch', 'gun_deck\\\\indoor', 'gun_deck\\\\outdoor', 'gun_store', 'gymnasium\\\\indoor', 'hacienda', 'hallway', 'handball_court', 'hangar\\\\indoor', 'hangar\\\\outdoor', 'harbor', 'hardware_store', 'hat_shop', 'hatchery', 'hatchway', 'hayfield', 'hayloft', 'hearth', 'heath', 'hedge_maze', 'hedgerow', 'heliport', 'herb_garden', 'highway', 'hill', 'home_office', 'home_theater', 'hoodoo', 'hospital', 'hospital_room', 'hot_spring', 'hot_tub\\\\indoor', 'hot_tub\\\\outdoor', 'hotel\\\\outdoor', 'hotel_breakfast_area', 'hotel_room', 'house', 'hunting_lodge\\\\indoor', 'hunting_lodge\\\\outdoor', 'hut', 'ice_cream_parlor', 'ice_floe', 'ice_shelf', 'ice_skating_rink\\\\indoor', 'ice_skating_rink\\\\outdoor', 'iceberg', 'igloo', 'imaret', 'incinerator\\\\indoor', 'incinerator\\\\outdoor', 'industrial_area', 'industrial_park', 'inn\\\\indoor', 'inn\\\\outdoor', 'irrigation_ditch', 'islet', 'jacuzzi\\\\indoor', 'jacuzzi\\\\outdoor', 'jail\\\\indoor', 'jail\\\\outdoor', 'jail_cell', 'japanese_garden', 'jetty', 'jewelry_shop', 'joss_house', 'junk_pile', 'junkyard', 'jury_box', 'kasbah', 'kennel\\\\indoor', 'kennel\\\\outdoor', 'kindergarden_classroom', 'kiosk\\\\indoor', 'kiosk\\\\outdoor', 'kitchen', 'kitchenette', 'lab_classroom', 'labyrinth\\\\indoor', 'labyrinth\\\\outdoor', 'lagoon', 'lake\\\\artificial', 'lake\\\\natural', 'landfill', 'landing', 'landing_deck', 'laundromat', 'lava_flow', 'lavatory', 'lawn', 'lean-to', 'lecture_room', 'legislative_chamber', 'levee', 'library\\\\indoor', 'library\\\\outdoor', 'lido_deck\\\\indoor', 'lido_deck\\\\outdoor', 'lift_bridge', 'lighthouse', 'limousine_interior', 'liquor_store\\\\indoor', 'liquor_store\\\\outdoor', 'living_room', 'loading_dock', 'lobby', 'lock_chamber', 'locker_room', 'loft', 'lookout_station\\\\indoor', 'lookout_station\\\\outdoor', 'lumberyard\\\\indoor', 'lumberyard\\\\outdoor', 'machine_shop', 'manhole', 'mansion', 'manufactured_home', 'market\\\\indoor', 'market\\\\outdoor', 'marsh', 'martial_arts_gym', 'mastaba', 'maternity_ward', 'mausoleum', 'medina', 'menhir', 'mesa', 'mess_hall', 'mezzanine', 'military_hospital', 'military_hut', 'military_tent', 'mill', 'mine', 'mineshaft', 'mini_golf_course\\\\indoor', 'mini_golf_course\\\\outdoor', 'mission', 'moat\\\\dry', 'moat\\\\water', 'mobile_home', 'monastery\\\\indoor', 'monastery\\\\outdoor', 'moon_bounce', 'moor', 'morgue', 'mosque\\\\indoor', 'mosque\\\\outdoor', 'motel', 'mountain', 'mountain_path', 'mountain_road', 'mountain_snowy', 'movie_theater\\\\indoor', 'movie_theater\\\\outdoor', 'mudflat', 'museum\\\\indoor', 'museum\\\\outdoor', 'music_store', 'music_studio', 'natural_history_museum', 'naval_base', 'newsroom', 'newsstand\\\\indoor', 'newsstand\\\\outdoor', 'nightclub', 'nuclear_power_plant\\\\indoor', 'nuclear_power_plant\\\\outdoor', 'nunnery', 'nursery', 'nursing_home', 'oasis', 'oast_house', 'observatory\\\\indoor', 'observatory\\\\outdoor', 'observatory_post', 'ocean', 'office', 'office_building', 'office_cubicles', 'oil_refinery\\\\indoor', 'oil_refinery\\\\outdoor', 'oilfield\\\\land', 'oilfield\\\\offshore', 'oilrig', 'operating_room', 'optician', 'orchard', 'orchestra_pit', 'organ_loft\\\\exterior', 'organ_loft\\\\interior', 'orlop_deck', 'ossuary', 'outcropping', 'outhouse\\\\indoor', 'outhouse\\\\outdoor', 'overpass', 'oyster_bar', 'oyster_farm', 'packaging_plant', 'pagoda', 'palace', 'palisade', 'pantry', 'paper_mill', 'parade_ground', 'park', 'parking_garage\\\\entrance', 'parking_garage\\\\indoor', 'parking_garage\\\\outdoor', 'parking_lot', 'parlor', 'particle_accelerator', 'party_tent\\\\indoor', 'party_tent\\\\outdoor', 'pasture', 'patio', 'pavilion', 'pawnshop', 'pedestrian_overpass\\\\indoor', 'pedestrian_overpass\\\\outdoor', 'penalty_box', 'perfume_shop', 'pet_shop', 'pharmacy', 'phone_booth', 'physics_laboratory', 'piano_store', 'picnic_area', 'pier', 'pig_farm', 'pilothouse\\\\indoor', 'pilothouse\\\\outdoor', 'pitchers_mound', 'pizzeria', 'planetarium\\\\indoor', 'planetarium\\\\outdoor', 'plantation_house', 'playground', 'playroom', 'plaza', 'podium\\\\indoor', 'podium\\\\outdoor', 'police_station', 'pond', 'pontoon_bridge', 'poolroom\\\\establishment', 'poolroom\\\\home', 'poop_deck', 'porch', 'portico', 'portrait_studio', 'postern', 'power_plant\\\\indoor', 'power_plant\\\\outdoor', 'print_shop', 'priory', 'promenade', 'promenade_deck', 'pub\\\\indoor', 'pub\\\\outdoor', 'pulpit', 'pump_room', 'putting_green', 'quadrangle', 'quay', 'quicksand', 'quonset_hut\\\\indoor', 'quonset_hut\\\\outdoor', 'racecourse', 'raceway', 'raft', 'railroad_track', 'railway_yard', 'rainforest', 'ramp', 'ranch', 'ranch_house', 'reading_room', 'reception', 'recreation_room', 'rectory', 'recycling_plant\\\\indoor', 'recycling_plant\\\\outdoor', 'refectory', 'repair_shop', 'residential_neighborhood', 'resort', 'rest_area', 'restaurant', 'restaurant_kitchen', 'restaurant_patio', 'restroom\\\\indoor', 'restroom\\\\outdoor', 'revolving_door', 'rice_paddy', 'riding_arena', 'river', 'road_cut', 'rock_arch', 'roller_skating_rink\\\\indoor', 'roller_skating_rink\\\\outdoor', 'rolling_mill', 'roof', 'roof_garden', 'root_cellar', 'rope_bridge', 'roundabout', 'roundhouse', 'rubble', 'ruin', 'runway', 'sacristy', 'salt_plain', 'sand_trap', 'sandbar', 'sandbox', 'sauna', 'savanna', 'sawmill', 'schoolhouse', 'schoolyard', 'science_museum', 'scriptorium', 'sea_cliff', 'seawall', 'security_check_point', 'server_room', 'sewing_room', 'shed', 'shipping_room', 'shipyard\\\\indoor', 'shipyard\\\\outdoor', 'shoe_shop', 'shopfront', 'shopping_mall\\\\indoor', 'shopping_mall\\\\outdoor', 'shower', 'shower_room', 'shrine', 'signal_box', 'sinkhole', 'skate_park', 'skatepark', 'ski_jump', 'ski_lodge', 'ski_resort', 'ski_slope', 'sky', 'skyscraper', 'skywalk\\\\indoor', 'skywalk\\\\outdoor', 'slum', 'snowfield', 'soccer_field', 'spa\\\\massage_room', 'spa\\\\mineral_bath', 'spillway', 'sporting_goods_store', 'squash_court', 'stable', 'stadium\\\\baseball', 'stadium\\\\football', 'stadium\\\\outdoor', 'stadium\\\\performance', 'stadium\\\\soccer', 'stage\\\\indoor', 'stage\\\\outdoor', 'staircase', 'starting_gate', 'steam_plant\\\\indoor', 'steam_plant\\\\outdoor', 'steel_mill\\\\indoor', 'steel_mill\\\\outdoor', 'stilt_house\\\\water', 'stone_circle', 'storage_room', 'storm_cellar', 'street', 'strip_mall', 'strip_mine', 'student_residence', 'submarine_interior', 'subway_interior', 'subway_station\\\\corridor', 'subway_station\\\\platform', 'subway_station\\\\turnstiles', 'sun_deck', 'supermarket', 'sushi_bar', 'swamp', 'swimming_hole', 'swimming_pool\\\\indoor', 'swimming_pool\\\\outdoor', 'synagogue\\\\indoor', 'synagogue\\\\outdoor', 'taiga', 'taxistand', 'taxiway', 'tea_garden', 'tearoom', 'teashop', 'television_room', 'television_studio', 'temple\\\\east_asia', 'temple\\\\mesoamerican', 'temple\\\\south_asia', 'temple\\\\western', 'tennis_court\\\\indoor', 'tennis_court\\\\outdoor', 'tent\\\\indoor', 'tent\\\\outdoor', 'terrace_farm', 'textile_mill', 'theater\\\\indoor_procenium', 'theater\\\\indoor_round', 'theater\\\\indoor_seats', 'theater\\\\outdoor', 'thriftshop', 'throne_room', 'ticket_booth', 'ticket_window\\\\indoor', 'ticket_window\\\\outdoor', 'tobacco_shop\\\\indoor', 'tobacco_shop\\\\outdoor', 'toll_plaza', 'tollbooth', 'topiary_garden', 'tower', 'town_house', 'toyshop', 'track\\\\indoor', 'track\\\\outdoor', 'trading_floor', 'trailer_park', 'train_depot', 'train_railway', 'train_station\\\\outdoor', 'train_station\\\\platform', 'train_station\\\\station', 'tree_farm', 'tree_house', 'trench', 'trestle_bridge', 'tundra', 'tunnel\\\\natural', 'tunnel\\\\rail_indoor', 'tunnel\\\\rail_outdoor', 'tunnel\\\\road_indoor', 'tunnel\\\\road_outdoor', 'tunnel\\\\waterway', 'turkish_bath', 'underwater\\\\coral_reef', 'underwater\\\\ice', 'underwater\\\\kelp_forest', 'underwater\\\\ocean_deep', 'underwater\\\\ocean_shallow', 'underwater\\\\pool', 'underwater\\\\wreck', 'utility_room', 'valley', 'van_interior', 'vegetable_garden', 'velodrome\\\\indoor', 'velodrome\\\\outdoor', 'ventilation_shaft', 'veranda', 'vestry', 'veterinarians_office', 'viaduct', 'videostore', 'village', 'vineyard', 'volcano', 'volleyball_court\\\\indoor', 'volleyball_court\\\\outdoor', 'voting_booth', 'waiting_room', 'warehouse\\\\indoor', 'warehouse\\\\outdoor', 'washhouse\\\\indoor', 'washhouse\\\\outdoor', 'watchtower', 'water_mill', 'water_park', 'water_tower', 'water_treatment_plant\\\\indoor', 'water_treatment_plant\\\\outdoor', 'waterfall\\\\block', 'waterfall\\\\cascade', 'waterfall\\\\cataract', 'waterfall\\\\fan', 'waterfall\\\\frozen', 'waterfall\\\\plunge', 'watering_hole', 'wave', 'weighbridge', 'wet_bar', 'wharf', 'wheat_field', 'whispering_gallery', 'widows_walk\\\\exterior', 'widows_walk\\\\interior', 'wig_shop', 'wind_farm', 'windmill', 'window_seat', 'wine_cellar\\\\barrel_storage', 'wine_cellar\\\\bottle_storage', 'winery', 'winners_circle', 'witness_stand', 'woodland', 'workroom', 'workshop', 'wrestling_ring\\\\indoor', 'wrestling_ring\\\\outdoor', 'yard', 'youth_hostel', 'zen_garden', 'ziggurat', 'zoo'])"
      ]
     },
     "execution_count": 11,
     "metadata": {},
     "output_type": "execute_result"
    }
   ],
   "source": [
    "scenes.keys()"
   ]
  },
  {
   "cell_type": "code",
   "execution_count": 19,
   "metadata": {
    "collapsed": false
   },
   "outputs": [
    {
     "data": {
      "text/plain": [
       "['alley',\n",
       " 'athletic_field\\\\outdoor',\n",
       " 'bakery\\\\shop',\n",
       " 'bar',\n",
       " 'basketball_court\\\\outdoor',\n",
       " 'bathroom',\n",
       " 'beach',\n",
       " 'church\\\\outdoor',\n",
       " 'forest_path',\n",
       " 'harbor',\n",
       " 'ice_skating_rink\\\\indoor',\n",
       " 'kitchen',\n",
       " 'ocean',\n",
       " 'pasture',\n",
       " 'river',\n",
       " 'skatepark',\n",
       " 'ski_slope',\n",
       " 'stadium\\\\baseball',\n",
       " 'stadium\\\\football',\n",
       " 'street',\n",
       " 'tennis_court\\\\outdoor',\n",
       " 'amusement_park',\n",
       " 'rainforest',\n",
       " 'botanical_garden',\n",
       " 'childs_room',\n",
       " 'crosswalk',\n",
       " 'field\\\\wild',\n",
       " 'general_store\\\\indoor',\n",
       " 'mountain',\n",
       " 'office',\n",
       " 'zoo',\n",
       " 'airport\\\\airport',\n",
       " 'bicycle_racks',\n",
       " 'bus_depot\\\\outdoor',\n",
       " 'carport\\\\freestanding',\n",
       " 'desert\\\\sand',\n",
       " 'downtown',\n",
       " 'fishpond',\n",
       " 'freeway',\n",
       " 'living_room',\n",
       " 'mansion',\n",
       " 'market\\\\outdoor',\n",
       " 'park',\n",
       " 'bridge',\n",
       " 'chalet',\n",
       " 'train_railway',\n",
       " 'under_water\\\\shallow',\n",
       " 'waterfall\\\\plunge',\n",
       " 'zigurat',\n",
       " 'track\\\\indoor']"
      ]
     },
     "execution_count": 19,
     "metadata": {},
     "output_type": "execute_result"
    }
   ],
   "source": [
    "relevant_scenes"
   ]
  },
  {
   "cell_type": "code",
   "execution_count": null,
   "metadata": {
    "collapsed": true
   },
   "outputs": [],
   "source": []
  }
 ],
 "metadata": {
  "kernelspec": {
   "display_name": "Python 3",
   "language": "python",
   "name": "python3"
  },
  "language_info": {
   "codemirror_mode": {
    "name": "ipython",
    "version": 3
   },
   "file_extension": ".py",
   "mimetype": "text/x-python",
   "name": "python",
   "nbconvert_exporter": "python",
   "pygments_lexer": "ipython3",
   "version": "3.6.0"
  }
 },
 "nbformat": 4,
 "nbformat_minor": 2
}
