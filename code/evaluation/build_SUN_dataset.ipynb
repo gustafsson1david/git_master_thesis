{
 "cells": [
  {
   "cell_type": "code",
   "execution_count": null,
   "metadata": {
    "collapsed": true
   },
   "outputs": [],
   "source": [
    "import numpy as np\n",
    "import scipy.io\n",
    "import urllib.request\n",
    "import os\n",
    "import random"
   ]
  },
  {
   "cell_type": "code",
   "execution_count": null,
   "metadata": {
    "collapsed": false
   },
   "outputs": [],
   "source": [
    "images_per_scene = 2\n",
    "\n",
    "sun397 = scipy.io.loadmat('../../data/SUN397_urls.mat', squeeze_me=True, struct_as_record=False)\n",
    "\n",
    "scenes = {}\n",
    "for s in sun397['SUN']:\n",
    "    scene_name = s.category[2:]\n",
    "    urls = s.images\n",
    "    scenes[scene_name] = urls\n",
    "print(len(scenes))"
   ]
  },
  {
   "cell_type": "code",
   "execution_count": null,
   "metadata": {
    "collapsed": false
   },
   "outputs": [],
   "source": [
    "for k, v in scenes.items():\n",
    "    os.makedirs('../../data/sun/'+k)\n",
    "    for i in random.sample(range(len(v)), images_per_scene):\n",
    "        urllib.request.urlretrieve(v[i], '../../data/sun/'+k+'/'+k+'_'+str(i)+'.jpg')\n",
    "    print('Downloaded '+str(images_per_scene)+' images from \"'+k+'\"')"
   ]
  },
  {
   "cell_type": "code",
   "execution_count": null,
   "metadata": {
    "collapsed": true
   },
   "outputs": [],
   "source": []
  }
 ],
 "metadata": {
  "kernelspec": {
   "display_name": "Python 3",
   "language": "python",
   "name": "python3"
  },
  "language_info": {
   "codemirror_mode": {
    "name": "ipython",
    "version": 3
   },
   "file_extension": ".py",
   "mimetype": "text/x-python",
   "name": "python",
   "nbconvert_exporter": "python",
   "pygments_lexer": "ipython3",
   "version": "3.6.0"
  }
 },
 "nbformat": 4,
 "nbformat_minor": 2
}
