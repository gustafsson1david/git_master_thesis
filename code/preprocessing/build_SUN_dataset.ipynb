{
 "cells": [
  {
   "cell_type": "code",
   "execution_count": null,
   "metadata": {
    "collapsed": true
   },
   "outputs": [],
   "source": [
    "import numpy as np\n",
    "import scipy.io\n",
    "import urllib.request\n",
    "import os\n",
    "import random\n",
    "import csv"
   ]
  },
  {
   "cell_type": "code",
   "execution_count": null,
   "metadata": {
    "collapsed": false
   },
   "outputs": [],
   "source": [
    "relevant_scenes = []\n",
    "with open('../../data/relevant_scenes.csv', 'r') as data_file:\n",
    "    reader_scenes = csv.reader(data_file)\n",
    "    for row in reader_scenes:\n",
    "        relevant_scenes.append(row[0][2:].replace('/', '\\\\'))"
   ]
  },
  {
   "cell_type": "code",
   "execution_count": null,
   "metadata": {
    "collapsed": false
   },
   "outputs": [],
   "source": [
    "images_per_scene = 20\n",
    "\n",
    "sun = scipy.io.loadmat('../../data/SUN_urls.mat', squeeze_me=True, struct_as_record=False)\n",
    "\n",
    "scenes = {}\n",
    "for s in sun['SUN']:\n",
    "    scene_name = s.category[2:]\n",
    "    urls = s.images\n",
    "    scenes[scene_name] = urls\n",
    "print(len(scenes))"
   ]
  },
  {
   "cell_type": "code",
   "execution_count": null,
   "metadata": {
    "collapsed": false
   },
   "outputs": [],
   "source": [
    "for k, v in scenes.items():\n",
    "    if k in relevant_scenes:\n",
    "        os.makedirs('../../data/sun/'+k)\n",
    "        list_random_sample = random.sample(range(len(v)), images_per_scene)\n",
    "        for i in list_random_sample:\n",
    "            urllib.request.urlretrieve(v[i], '../../data/sun/'+k+'/'+k+'_'+str(i)+'.jpg')\n",
    "        print('Downloaded '+str(images_per_scene)+' images from \"'+k+'\"')"
   ]
  },
  {
   "cell_type": "code",
   "execution_count": null,
   "metadata": {
    "collapsed": false
   },
   "outputs": [],
   "source": [
    "list_scenes = os.listdir('../../data/sun/')\n",
    "for scene in list_scenes:\n",
    "    images = os.listdir('../../data/sun/' + scene +'/')\n",
    "    if len(images) < 20:\n",
    "        print(scene + ': ' + str(len(images)))"
   ]
  },
  {
   "cell_type": "code",
   "execution_count": null,
   "metadata": {
    "collapsed": false
   },
   "outputs": [],
   "source": [
    "add_image =  ['http://labelme.csail.mit.edu/Images/users/antonio/static_sun_database/z/zoo/sun_bkvnfvyhyggtrjln.jpg']\n",
    "list_scenes = os.listdir('../../data/sun/')\n",
    "for url_image in add_image:\n",
    "    scene = ''\n",
    "    for i in range(-2,-5,-1):\n",
    "        if len(url_image.split('/')[i]) > 1:\n",
    "            scene = url_image.split('/')[i] + '\\\\' + scene\n",
    "        else:\n",
    "            break\n",
    "    scene = scene[:-1]\n",
    "    \n",
    "    images_local = os.listdir('../../data/sun/' + scene + '/')[1:]\n",
    "    if len(images_local) > 19:\n",
    "        print('20 images')\n",
    "        break\n",
    "    \n",
    "    urls = []\n",
    "    for image in images_local:\n",
    "        idx = int(image.split('.')[0].split('_')[-1])\n",
    "        urls.append(scenes[scene][idx])\n",
    "    \n",
    "    if url_image in urls:\n",
    "        print(\"Already in library\")\n",
    "        break\n",
    "        \n",
    "    idx = np.where(scenes[scene] == url_image)\n",
    "    urllib.request.urlretrieve(url_image, '../../data/sun/'+scene+'/'+scene+'_'+str(int(idx[0][0]))+'.jpg')\n",
    "    \n",
    "    "
   ]
  }
 ],
 "metadata": {
  "kernelspec": {
   "display_name": "Python 3",
   "language": "python",
   "name": "python3"
  },
  "language_info": {
   "codemirror_mode": {
    "name": "ipython",
    "version": 3
   },
   "file_extension": ".py",
   "mimetype": "text/x-python",
   "name": "python",
   "nbconvert_exporter": "python",
   "pygments_lexer": "ipython3",
   "version": "3.6.0"
  }
 },
 "nbformat": 4,
 "nbformat_minor": 2
}
