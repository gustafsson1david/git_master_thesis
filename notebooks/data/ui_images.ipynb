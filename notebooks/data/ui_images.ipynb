{
 "cells": [
  {
   "cell_type": "markdown",
   "metadata": {},
   "source": [
    "# Imports"
   ]
  },
  {
   "cell_type": "code",
   "execution_count": 38,
   "metadata": {
    "collapsed": true
   },
   "outputs": [],
   "source": [
    "import tkinter\n",
    "from PIL import Image, ImageTk\n",
    "file_names = ['train2014/COCO_train2014_000000000081.jpg', 'train2014/COCO_train2014_000000000110.jpg',\n",
    "             'train2014/COCO_train2014_000000000110.jpg','train2014/COCO_train2014_000000000110.jpg',\n",
    "             'train2014/COCO_train2014_000000000110.jpg','train2014/COCO_train2014_000000000110.jpg']\n",
    "captions = ['hi', 'haj', 'tjoo', 'tjenixen', 'pixen', 'hola']"
   ]
  },
  {
   "cell_type": "markdown",
   "metadata": {},
   "source": [
    "# Create UI window"
   ]
  },
  {
   "cell_type": "code",
   "execution_count": 49,
   "metadata": {
    "collapsed": false
   },
   "outputs": [],
   "source": [
    "# Set height\n",
    "height = 285\n",
    "\n",
    "# Create window\n",
    "Tk = tkinter.Tk()\n",
    "Tk.title(\"Top 5 results from comparing captions\")\n",
    "Tk.configure(background='white')\n",
    "Tk.wm_geometry(\"%dx%d%+d%+d\" % (1250, 700, 0, 0))\n",
    "\n",
    "# Load images\n",
    "for i,file_name in enumerate(file_names):\n",
    "    image = Image.open(file_name)\n",
    "    \n",
    "    # Rescale height\n",
    "    [image_width, image_height] = image.size\n",
    "    scale_factor = height / image_height\n",
    "    new_height = height\n",
    "    new_width = int(image_width * scale_factor)\n",
    "    image = image.resize((new_width, new_height), Image.ANTIALIAS)\n",
    "    \n",
    "    # Add border if query image\n",
    "    if i == 0:\n",
    "        border_im = Image.new(\"RGB\", ((new_width+10),(new_height+10)))\n",
    "        border_im.paste(image, (5,5))\n",
    "        image = border_im\n",
    "        \n",
    "    # Show image\n",
    "    image = ImageTk.PhotoImage(image)\n",
    "    label = tkinter.Label(image=image)\n",
    "    label.image = image\n",
    "    label.grid(row=(2*(int(i/3)+1)),column=int((i%3)+1),sticky='nw')\n",
    "    \n",
    "    # Add caption\n",
    "    if i == 0:\n",
    "        label=tkinter.Label(text='Query. ' + captions[i]).grid(\n",
    "            row=(2*(int(i/3)+1)-1),column=int((i%3)+1),sticky='nw')\n",
    "    else:       \n",
    "        label=tkinter.Label(text=str(i) + '. ' + captions[i]).grid(\n",
    "            row=(2*(int(i/3)+1)-1),column=int((i%3)+1),sticky='nw')\n",
    "    \n",
    "# Load window\n",
    "Tk.mainloop()"
   ]
  }
 ],
 "metadata": {
  "kernelspec": {
   "display_name": "Python 3",
   "language": "python",
   "name": "python3"
  },
  "language_info": {
   "codemirror_mode": {
    "name": "ipython",
    "version": 3
   },
   "file_extension": ".py",
   "mimetype": "text/x-python",
   "name": "python",
   "nbconvert_exporter": "python",
   "pygments_lexer": "ipython3",
   "version": "3.6.0"
  }
 },
 "nbformat": 4,
 "nbformat_minor": 2
}
